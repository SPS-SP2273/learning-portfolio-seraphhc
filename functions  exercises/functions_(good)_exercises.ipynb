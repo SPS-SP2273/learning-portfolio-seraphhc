{
 "cells": [
  {
   "attachments": {},
   "cell_type": "markdown",
   "id": "123456",
   "metadata": {},
   "source": [
    "<div style=\"text-align:left;font-size:2em\"><span style=\"font-weight:bolder;font-size:1.25em\">SP2273 | Learning Portfolio</span><br><br><span style=\"font-weight:bold;color:darkred\">Functions (Good) Exercises</span></div>"
   ]
  },
  {
   "cell_type": "markdown",
   "id": "871550af-3dda-4914-ae19-26e5c2757118",
   "metadata": {},
   "source": [
    "Exercise 1"
   ]
  },
  {
   "cell_type": "code",
   "execution_count": 65,
   "id": "254d49e8-2d20-4850-985a-dea4fd2068b7",
   "metadata": {},
   "outputs": [],
   "source": [
    "def convert_celsius(temperature_celsius, target_scale = 'Fahrenheit'):\n",
    "    if target_scale == 'Fahrenheit':\n",
    "        return f'{(temperature_celsius*9/5) + 32} Fahrenheit'\n",
    "    if target_scale == 'Kelvin':\n",
    "        return f'{(temperature_celsius + 273.15)} Kelvin'\n",
    "    else:\n",
    "        return 'please provide the units you would like the temperature to be in, Fahrenheit or Kelvin'"
   ]
  },
  {
   "cell_type": "code",
   "execution_count": 30,
   "id": "eac17287-a8ea-4e67-8055-331ac3b035f1",
   "metadata": {},
   "outputs": [
    {
     "data": {
      "text/plain": [
       "'86.0 Fahrenheit'"
      ]
     },
     "execution_count": 30,
     "metadata": {},
     "output_type": "execute_result"
    }
   ],
   "source": [
    "convert_celsius(30, 'Fahrenheit')"
   ]
  },
  {
   "cell_type": "code",
   "execution_count": 42,
   "id": "98b39cef-76d5-4635-8232-8af957b43533",
   "metadata": {},
   "outputs": [
    {
     "data": {
      "text/plain": [
       "'86.0 Fahrenheit'"
      ]
     },
     "execution_count": 42,
     "metadata": {},
     "output_type": "execute_result"
    }
   ],
   "source": [
    "convert_celsius(30)"
   ]
  },
  {
   "cell_type": "code",
   "execution_count": 31,
   "id": "95e7baa5-774f-46f8-a6b3-dbd93bd4cbc6",
   "metadata": {},
   "outputs": [
    {
     "data": {
      "text/plain": [
       "'303.15 Kelvin'"
      ]
     },
     "execution_count": 31,
     "metadata": {},
     "output_type": "execute_result"
    }
   ],
   "source": [
    "convert_celsius(30, 'Kelvin')"
   ]
  },
  {
   "cell_type": "code",
   "execution_count": 32,
   "id": "692bb349-99a1-4faa-a63d-d34a0579a78c",
   "metadata": {},
   "outputs": [
    {
     "data": {
      "text/plain": [
       "'please provide the units you would like the temperature to be in, Fahrenheit or Kelvin'"
      ]
     },
     "execution_count": 32,
     "metadata": {},
     "output_type": "execute_result"
    }
   ],
   "source": [
    "convert_celsius(30, 'hello')"
   ]
  },
  {
   "cell_type": "markdown",
   "id": "f7662f09-b702-436c-b60a-f30f2f210ebb",
   "metadata": {},
   "source": [
    "Exercise 2"
   ]
  },
  {
   "cell_type": "code",
   "execution_count": 49,
   "id": "5e94607f-e497-4fbe-a460-f830d1458680",
   "metadata": {},
   "outputs": [],
   "source": [
    "def convert_fahrenheit(temperature_fahrenheit, target_scale = 'Celsius'):\n",
    "    if target_scale == 'Celsius':\n",
    "        return f'{(temperature_fahrenheit - 32)*5/9} Celsius'\n",
    "    if target_scale == 'Kelvin': \n",
    "        return f'{(temperature_fahrenheit - 32)*5/9 + 273.15} Kelvin'\n",
    "    else:\n",
    "        return 'please provide the units you would like the temperature to be in, Celsius or Kelvin'"
   ]
  },
  {
   "cell_type": "code",
   "execution_count": 46,
   "id": "cf7c2946-8566-4ffd-8646-0514b9c59e61",
   "metadata": {},
   "outputs": [
    {
     "data": {
      "text/plain": [
       "'30.0 Celsius'"
      ]
     },
     "execution_count": 46,
     "metadata": {},
     "output_type": "execute_result"
    }
   ],
   "source": [
    "convert_fahrenheit(86)"
   ]
  },
  {
   "cell_type": "code",
   "execution_count": 48,
   "id": "ec6003de-2f9c-4c74-bbfb-32efc2c3f2d3",
   "metadata": {},
   "outputs": [
    {
     "data": {
      "text/plain": [
       "'303.15 Kelvin'"
      ]
     },
     "execution_count": 48,
     "metadata": {},
     "output_type": "execute_result"
    }
   ],
   "source": [
    "convert_fahrenheit(86, 'Kelvin')"
   ]
  },
  {
   "cell_type": "code",
   "execution_count": 50,
   "id": "5131474b-874f-4d4b-8815-efbc556d5ec3",
   "metadata": {},
   "outputs": [
    {
     "data": {
      "text/plain": [
       "'please provide the units you would like the temperature to be in, Celsius or Kelvin'"
      ]
     },
     "execution_count": 50,
     "metadata": {},
     "output_type": "execute_result"
    }
   ],
   "source": [
    "convert_fahrenheit(105, 'cel')"
   ]
  },
  {
   "cell_type": "markdown",
   "id": "d3e3bfe5-cb34-4873-a0c0-57101211d1a7",
   "metadata": {},
   "source": [
    "Exercise 3"
   ]
  },
  {
   "cell_type": "code",
   "execution_count": 71,
   "id": "6af4f7ad-f987-4907-a939-7a896697e348",
   "metadata": {},
   "outputs": [],
   "source": [
    "def convert_temperature(temperature, source_scale, target_scale):\n",
    "    if source_scale == 'Celsius':\n",
    "        return convert_celsius(temperature, target_scale)\n",
    "    if source_scale == 'Fahrenheit':\n",
    "        return convert_fahrenheit(temperature, target_scale)\n",
    "    if source_scale == 'Kelvin':\n",
    "        if target_scale == 'Celsius':\n",
    "            return f'{temperature - 273.15} Celsius'\n",
    "        if target_scale == 'Fahrenheit':\n",
    "            return f'{(temperature -273.15)* 9/5 + 32} Fahrenheit'"
   ]
  },
  {
   "cell_type": "code",
   "execution_count": 72,
   "id": "e5bcba68-012d-4b77-b583-28359ec81fa7",
   "metadata": {},
   "outputs": [
    {
     "data": {
      "text/plain": [
       "'86.0 Fahrenheit'"
      ]
     },
     "execution_count": 72,
     "metadata": {},
     "output_type": "execute_result"
    }
   ],
   "source": [
    "convert_temperature(30, 'Celsius', 'Fahrenheit')"
   ]
  },
  {
   "cell_type": "code",
   "execution_count": 73,
   "id": "c7bf423c-ebc3-4ee0-8712-8dbc945e8fba",
   "metadata": {},
   "outputs": [
    {
     "data": {
      "text/plain": [
       "'303.15 Kelvin'"
      ]
     },
     "execution_count": 73,
     "metadata": {},
     "output_type": "execute_result"
    }
   ],
   "source": [
    "convert_temperature(30, 'Celsius', 'Kelvin')"
   ]
  },
  {
   "cell_type": "code",
   "execution_count": 74,
   "id": "32e0610a-c1e0-429e-a603-9c877975a92f",
   "metadata": {},
   "outputs": [
    {
     "data": {
      "text/plain": [
       "'30.0 Celsius'"
      ]
     },
     "execution_count": 74,
     "metadata": {},
     "output_type": "execute_result"
    }
   ],
   "source": [
    "convert_temperature(86, 'Fahrenheit', 'Celsius')"
   ]
  },
  {
   "cell_type": "code",
   "execution_count": 75,
   "id": "3e07fc96-422d-4f50-90cf-e7593440c675",
   "metadata": {},
   "outputs": [
    {
     "data": {
      "text/plain": [
       "'303.15 Kelvin'"
      ]
     },
     "execution_count": 75,
     "metadata": {},
     "output_type": "execute_result"
    }
   ],
   "source": [
    "convert_temperature(86, 'Fahrenheit', 'Kelvin')"
   ]
  },
  {
   "cell_type": "code",
   "execution_count": 76,
   "id": "3249dee6-fc4e-46a7-b572-084132046bf2",
   "metadata": {},
   "outputs": [
    {
     "data": {
      "text/plain": [
       "'30.0 Celsius'"
      ]
     },
     "execution_count": 76,
     "metadata": {},
     "output_type": "execute_result"
    }
   ],
   "source": [
    "convert_temperature(303.15, 'Kelvin', 'Celsius')"
   ]
  },
  {
   "cell_type": "code",
   "execution_count": 77,
   "id": "d80053d8-ae42-4def-a1bf-600f1f530b3c",
   "metadata": {},
   "outputs": [
    {
     "data": {
      "text/plain": [
       "'86.0 Fahrenheit'"
      ]
     },
     "execution_count": 77,
     "metadata": {},
     "output_type": "execute_result"
    }
   ],
   "source": [
    "convert_temperature(303.15, 'Kelvin', 'Fahrenheit')"
   ]
  }
 ],
 "metadata": {
  "kernelspec": {
   "display_name": "Python 3 (ipykernel)",
   "language": "python",
   "name": "python3"
  },
  "language_info": {
   "codemirror_mode": {
    "name": "ipython",
    "version": 3
   },
   "file_extension": ".py",
   "mimetype": "text/x-python",
   "name": "python",
   "nbconvert_exporter": "python",
   "pygments_lexer": "ipython3",
   "version": "3.11.7"
  },
  "toc": {
   "base_numbering": 1,
   "nav_menu": {},
   "number_sections": true,
   "sideBar": true,
   "skip_h1_title": false,
   "title_cell": "Table of Contents",
   "title_sidebar": "Contents",
   "toc_cell": false,
   "toc_position": {},
   "toc_section_display": true,
   "toc_window_display": false
  },
  "vscode": {
   "interpreter": {
    "hash": "31f2aee4e71d21fbe5cf8b01ff0e069b9275f58929596ceb00d14d90e3e16cd6"
   }
  }
 },
 "nbformat": 4,
 "nbformat_minor": 5
}
