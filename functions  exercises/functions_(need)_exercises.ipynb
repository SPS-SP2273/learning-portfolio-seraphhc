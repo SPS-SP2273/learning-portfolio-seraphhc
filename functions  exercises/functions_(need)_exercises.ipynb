{
 "cells": [
  {
   "attachments": {},
   "cell_type": "markdown",
   "id": "123456",
   "metadata": {},
   "source": [
    "<div style=\"text-align:left;font-size:2em\"><span style=\"font-weight:bolder;font-size:1.25em\">SP2273 | Learning Portfolio</span><br><br><span style=\"font-weight:bold;color:darkred\">Functions (Need) Exercises</span></div>"
   ]
  },
  {
   "cell_type": "markdown",
   "id": "d350d5ee-77ce-4758-ac9e-97f41dbec438",
   "metadata": {},
   "source": [
    "Exercise 1\n",
    "code below works without 'else' statement. why is that so?"
   ]
  },
  {
   "cell_type": "code",
   "execution_count": 1,
   "id": "bd2ac0b8-9d15-4131-85a9-419821f77596",
   "metadata": {},
   "outputs": [],
   "source": [
    "def greeting(name):\n",
    "    if name == 'Batman':\n",
    "        return 'Hello Batman! So, nice to meet you!'\n",
    "    return f'Hello {name}!'"
   ]
  },
  {
   "cell_type": "markdown",
   "id": "c3944b35-90bc-456a-9476-9c56bf7a916c",
   "metadata": {},
   "source": [
    "This is as there is an indentation in the line after 'if' to show what happens if the 'if' statement is true. Otherwise, return f'Hello {name}!' is 1 indentation from the 'def' statment, and will be true for when the function greeting() is used. "
   ]
  },
  {
   "cell_type": "markdown",
   "id": "8b78e551-3ef0-48cf-9282-130c292c07ff",
   "metadata": {},
   "source": [
    "Exercise 2"
   ]
  },
  {
   "cell_type": "code",
   "execution_count": 2,
   "id": "e6092ba9-8ad7-424f-bad1-d09b697769d4",
   "metadata": {},
   "outputs": [],
   "source": [
    "import numpy as np"
   ]
  },
  {
   "cell_type": "code",
   "execution_count": 22,
   "id": "22743469-dc9c-47fa-9916-a8fa853af36b",
   "metadata": {},
   "outputs": [],
   "source": [
    "def calculate_bmi(weight, height):\n",
    "    bmi = weight / (height ** 2) \n",
    "    if bmi < 18.5:\n",
    "        return 'Underweight'\n",
    "    if 18.5 < bmi < 24.9:\n",
    "        return 'Normal Weight'\n",
    "    if 25 < bmi < 29.9:\n",
    "        return 'Overweight'\n",
    "    if bmi > 30:\n",
    "        return 'Obesity'"
   ]
  },
  {
   "cell_type": "code",
   "execution_count": 16,
   "id": "1094e9b3-4b08-4eab-8e05-3c02dfc71831",
   "metadata": {},
   "outputs": [
    {
     "data": {
      "text/plain": [
       "'Underweight'"
      ]
     },
     "execution_count": 16,
     "metadata": {},
     "output_type": "execute_result"
    }
   ],
   "source": [
    "calculate_bmi(45,1.6)"
   ]
  },
  {
   "cell_type": "code",
   "execution_count": 17,
   "id": "a910a5e1-5236-4b7d-8a96-39df0648738c",
   "metadata": {},
   "outputs": [
    {
     "data": {
      "text/plain": [
       "'Normal Weight'"
      ]
     },
     "execution_count": 17,
     "metadata": {},
     "output_type": "execute_result"
    }
   ],
   "source": [
    "calculate_bmi(45,1.52)"
   ]
  },
  {
   "cell_type": "code",
   "execution_count": 20,
   "id": "4c387605-2dab-426a-8825-729e3718f77e",
   "metadata": {},
   "outputs": [
    {
     "data": {
      "text/plain": [
       "'Overweight'"
      ]
     },
     "execution_count": 20,
     "metadata": {},
     "output_type": "execute_result"
    }
   ],
   "source": [
    "calculate_bmi(60,1.52)"
   ]
  },
  {
   "cell_type": "code",
   "execution_count": 23,
   "id": "cec24170-5a42-46f4-b162-59baa99f0fba",
   "metadata": {},
   "outputs": [
    {
     "data": {
      "text/plain": [
       "'Obesity'"
      ]
     },
     "execution_count": 23,
     "metadata": {},
     "output_type": "execute_result"
    }
   ],
   "source": [
    "calculate_bmi(75,1.52)"
   ]
  }
 ],
 "metadata": {
  "kernelspec": {
   "display_name": "Python 3 (ipykernel)",
   "language": "python",
   "name": "python3"
  },
  "language_info": {
   "codemirror_mode": {
    "name": "ipython",
    "version": 3
   },
   "file_extension": ".py",
   "mimetype": "text/x-python",
   "name": "python",
   "nbconvert_exporter": "python",
   "pygments_lexer": "ipython3",
   "version": "3.11.7"
  },
  "toc": {
   "base_numbering": 1,
   "nav_menu": {},
   "number_sections": true,
   "sideBar": true,
   "skip_h1_title": false,
   "title_cell": "Table of Contents",
   "title_sidebar": "Contents",
   "toc_cell": false,
   "toc_position": {},
   "toc_section_display": true,
   "toc_window_display": false
  },
  "vscode": {
   "interpreter": {
    "hash": "31f2aee4e71d21fbe5cf8b01ff0e069b9275f58929596ceb00d14d90e3e16cd6"
   }
  }
 },
 "nbformat": 4,
 "nbformat_minor": 5
}
