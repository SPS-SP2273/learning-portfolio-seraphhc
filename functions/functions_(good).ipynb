{
 "cells": [
  {
   "attachments": {},
   "cell_type": "markdown",
   "id": "123456",
   "metadata": {},
   "source": [
    "<div style=\"text-align:left;font-size:2em\"><span style=\"font-weight:bolder;font-size:1.25em\">SP2273 | Learning Portfolio</span><br><br><span style=\"font-weight:bold;color:darkred\">Functions (Good)</span></div>"
   ]
  },
  {
   "attachments": {},
   "cell_type": "markdown",
   "id": "443b5341",
   "metadata": {},
   "source": [
    "# Checks, balances, and contingencies"
   ]
  },
  {
   "cell_type": "markdown",
   "id": "106fba6f-caf9-402a-8a89-e1024adca344",
   "metadata": {},
   "source": [
    "allows us to see if something has went wrong "
   ]
  },
  {
   "attachments": {},
   "cell_type": "markdown",
   "id": "31794c3c",
   "metadata": {},
   "source": [
    "## assert\n",
    "checks a condition and halts execution if needed. also give the option of printing a msg. \n",
    "\n",
    "assert *condition-to-check*, \"*message*\""
   ]
  },
  {
   "cell_type": "code",
   "execution_count": 4,
   "id": "110afb0d-c787-43ca-8cf0-5652aa7e626c",
   "metadata": {},
   "outputs": [],
   "source": [
    "x = 10\n",
    "assert x >= 0, \"x is becoming negative!\" #stops the flow if the condition fails,\n",
    "                                        # runs as long as the condition is true\n",
    "# this will run w/o a problem !"
   ]
  },
  {
   "cell_type": "code",
   "execution_count": 5,
   "id": "68d6ae2c-13e0-444f-9fc5-78a29de9fcfa",
   "metadata": {},
   "outputs": [
    {
     "ename": "AssertionError",
     "evalue": "x is becoming negative!",
     "output_type": "error",
     "traceback": [
      "\u001b[0;31m---------------------------------------------------------------------------\u001b[0m",
      "\u001b[0;31mAssertionError\u001b[0m                            Traceback (most recent call last)",
      "Cell \u001b[0;32mIn[5], line 2\u001b[0m\n\u001b[1;32m      1\u001b[0m x \u001b[38;5;241m=\u001b[39m \u001b[38;5;241m-\u001b[39m\u001b[38;5;241m1\u001b[39m\n\u001b[0;32m----> 2\u001b[0m \u001b[38;5;28;01massert\u001b[39;00m x \u001b[38;5;241m>\u001b[39m\u001b[38;5;241m=\u001b[39m \u001b[38;5;241m0\u001b[39m, \u001b[38;5;124m\"\u001b[39m\u001b[38;5;124mx is becoming negative!\u001b[39m\u001b[38;5;124m\"\u001b[39m\n",
      "\u001b[0;31mAssertionError\u001b[0m: x is becoming negative!"
     ]
    }
   ],
   "source": [
    "x = -1\n",
    "assert x >= 0, \"x is becoming negative!\"\n",
    "# this will throw an error and stops. \n",
    "# fails -> Assertation Error"
   ]
  },
  {
   "cell_type": "code",
   "execution_count": 6,
   "id": "39f1b1f1-db07-46d0-b1b6-3422c93fee41",
   "metadata": {},
   "outputs": [
    {
     "ename": "AssertionError",
     "evalue": "x is becoming negative!",
     "output_type": "error",
     "traceback": [
      "\u001b[0;31m---------------------------------------------------------------------------\u001b[0m",
      "\u001b[0;31mAssertionError\u001b[0m                            Traceback (most recent call last)",
      "Cell \u001b[0;32mIn[6], line 3\u001b[0m\n\u001b[1;32m      1\u001b[0m x \u001b[38;5;241m=\u001b[39m \u001b[38;5;241m1\u001b[39m\n\u001b[1;32m      2\u001b[0m x \u001b[38;5;241m=\u001b[39m \u001b[38;5;241m-\u001b[39m\u001b[38;5;241m1\u001b[39m\n\u001b[0;32m----> 3\u001b[0m \u001b[38;5;28;01massert\u001b[39;00m x \u001b[38;5;241m>\u001b[39m\u001b[38;5;241m=\u001b[39m \u001b[38;5;241m0\u001b[39m, \u001b[38;5;124m\"\u001b[39m\u001b[38;5;124mx is becoming negative!\u001b[39m\u001b[38;5;124m\"\u001b[39m\n",
      "\u001b[0;31mAssertionError\u001b[0m: x is becoming negative!"
     ]
    }
   ],
   "source": [
    "x = 1\n",
    "x = -1\n",
    "assert x >= 0, \"x is becoming negative!\""
   ]
  },
  {
   "attachments": {},
   "cell_type": "markdown",
   "id": "af8b93e5",
   "metadata": {},
   "source": [
    "##  try-except\n",
    "exceptions: things going wrong. eg. division by zero will raise a ZeroDivisionError. If left unhandled, the exception will halt the flow of the programme. to catch and handle these exceptions yourself, we can use try-except "
   ]
  },
  {
   "cell_type": "code",
   "execution_count": 7,
   "id": "0ce665d7-3b79-4314-b71c-70e4f168f1c4",
   "metadata": {},
   "outputs": [
    {
     "name": "stdin",
     "output_type": "stream",
     "text": [
      "Give me a number and I will calculate its square. 4\n"
     ]
    },
    {
     "name": "stdout",
     "output_type": "stream",
     "text": [
      "The square of 4 is 16!\n"
     ]
    }
   ],
   "source": [
    "number=input(\"Give me a number and I will calculate its square.\")\n",
    "square=int(number)**2              # Convert English to number\n",
    "print(f'The square of {number} is {square}!')"
   ]
  },
  {
   "cell_type": "markdown",
   "id": "7c791620-28c2-415e-b6e4-c560317dc79a",
   "metadata": {},
   "source": [
    "the above works because int(number) makes sense, but if the input is not a number and is a word eg. hello..."
   ]
  },
  {
   "cell_type": "code",
   "execution_count": 8,
   "id": "428ec1c2-4f53-444c-8694-fad8bde547c4",
   "metadata": {},
   "outputs": [
    {
     "name": "stdin",
     "output_type": "stream",
     "text": [
      "Give me a number and I will calculate its square. hello\n"
     ]
    },
    {
     "ename": "ValueError",
     "evalue": "invalid literal for int() with base 10: 'hello'",
     "output_type": "error",
     "traceback": [
      "\u001b[0;31m---------------------------------------------------------------------------\u001b[0m",
      "\u001b[0;31mValueError\u001b[0m                                Traceback (most recent call last)",
      "Cell \u001b[0;32mIn[8], line 2\u001b[0m\n\u001b[1;32m      1\u001b[0m number\u001b[38;5;241m=\u001b[39m\u001b[38;5;28minput\u001b[39m(\u001b[38;5;124m\"\u001b[39m\u001b[38;5;124mGive me a number and I will calculate its square.\u001b[39m\u001b[38;5;124m\"\u001b[39m)\n\u001b[0;32m----> 2\u001b[0m square\u001b[38;5;241m=\u001b[39m\u001b[38;5;28;43mint\u001b[39;49m\u001b[43m(\u001b[49m\u001b[43mnumber\u001b[49m\u001b[43m)\u001b[49m\u001b[38;5;241m*\u001b[39m\u001b[38;5;241m*\u001b[39m\u001b[38;5;241m2\u001b[39m              \u001b[38;5;66;03m# Convert English to number\u001b[39;00m\n\u001b[1;32m      3\u001b[0m \u001b[38;5;28mprint\u001b[39m(\u001b[38;5;124mf\u001b[39m\u001b[38;5;124m'\u001b[39m\u001b[38;5;124mThe square of \u001b[39m\u001b[38;5;132;01m{\u001b[39;00mnumber\u001b[38;5;132;01m}\u001b[39;00m\u001b[38;5;124m is \u001b[39m\u001b[38;5;132;01m{\u001b[39;00msquare\u001b[38;5;132;01m}\u001b[39;00m\u001b[38;5;124m!\u001b[39m\u001b[38;5;124m'\u001b[39m)\n",
      "\u001b[0;31mValueError\u001b[0m: invalid literal for int() with base 10: 'hello'"
     ]
    }
   ],
   "source": [
    "number=input(\"Give me a number and I will calculate its square.\")\n",
    "square=int(number)**2              # Convert English to number\n",
    "print(f'The square of {number} is {square}!')"
   ]
  },
  {
   "cell_type": "code",
   "execution_count": 9,
   "id": "ffb21560-4464-4976-a462-0079fdf34bc8",
   "metadata": {},
   "outputs": [
    {
     "name": "stdin",
     "output_type": "stream",
     "text": [
      "Give me a number and I will calculate its square. hello \n"
     ]
    },
    {
     "name": "stdout",
     "output_type": "stream",
     "text": [
      "Oh oh! I cannot square hello !\n"
     ]
    }
   ],
   "source": [
    "try:\n",
    "    number=input(\"Give me a number and I will calculate its square.\")\n",
    "    square=int(number)**2\n",
    "    print(f'The square of {number} is {square}!')\n",
    "except:\n",
    "    print(f\"Oh oh! I cannot square {number}!\")"
   ]
  },
  {
   "cell_type": "markdown",
   "id": "9a542881-ec47-4657-bc11-b10c11cff573",
   "metadata": {},
   "source": [
    "thus, python will ignore the error if anything goes wrong in try, and runs the code in the except block. "
   ]
  },
  {
   "attachments": {},
   "cell_type": "markdown",
   "id": "a75fc095",
   "metadata": {},
   "source": [
    "## A simple suggestion\n",
    "let the outside world know when a milestone is completes, eg. using print() "
   ]
  },
  {
   "attachments": {},
   "cell_type": "markdown",
   "id": "766a7e57",
   "metadata": {},
   "source": [
    "#  Some loose ends\n",
    "3 ways to pass a value to an argument: "
   ]
  },
  {
   "attachments": {},
   "cell_type": "markdown",
   "id": "6983a107",
   "metadata": {},
   "source": [
    "## Positional, keyword and default arguments"
   ]
  },
  {
   "cell_type": "code",
   "execution_count": 13,
   "id": "a57013bf-96bf-46af-b98c-85c7eed4f81f",
   "metadata": {},
   "outputs": [],
   "source": [
    "def side_by_side(a, b, c=42):\n",
    "    return f'{a: 2d}|{b: 2d}|{c: 2d}'"
   ]
  },
  {
   "cell_type": "code",
   "execution_count": 11,
   "id": "ae9b4db0-307f-4bdd-a791-3b9e618b58bf",
   "metadata": {},
   "outputs": [
    {
     "data": {
      "text/plain": [
       "' 1| 2| 3'"
      ]
     },
     "execution_count": 11,
     "metadata": {},
     "output_type": "execute_result"
    }
   ],
   "source": [
    "side_by_side(1, 2, 3) #1st way: positional. \n",
    "# this tells python to assign 1,2,3 to a, b, c "
   ]
  },
  {
   "cell_type": "code",
   "execution_count": 14,
   "id": "f5b0388f-4d52-445c-a584-a8e1e6cc0311",
   "metadata": {},
   "outputs": [
    {
     "data": {
      "text/plain": [
       "' 2| 1| 3'"
      ]
     },
     "execution_count": 14,
     "metadata": {},
     "output_type": "execute_result"
    }
   ],
   "source": [
    "side_by_side(c=3, b=1, a=2)  #2nd way: keywords.\n",
    "# in this case, order does not matter as keywords are assigned values "
   ]
  },
  {
   "cell_type": "code",
   "execution_count": 16,
   "id": "22b10fa1-c0e6-4f2c-b80e-a5719612cac8",
   "metadata": {},
   "outputs": [
    {
     "data": {
      "text/plain": [
       "' 1| 2| 42'"
      ]
     },
     "execution_count": 16,
     "metadata": {},
     "output_type": "execute_result"
    }
   ],
   "source": [
    "side_by_side(1, b=2)     #3rd way: default \n",
    "# since c is optional, can choose to not specify it "
   ]
  },
  {
   "cell_type": "code",
   "execution_count": 18,
   "id": "959af321-b276-4ace-a570-31a2cf927124",
   "metadata": {},
   "outputs": [
    {
     "name": "stdout",
     "output_type": "stream",
     "text": [
      " 1| 2| 42\n",
      " 1| 2| 3\n",
      " 1| 2| 42\n",
      " 2| 1| 3\n",
      " 1| 2| 3\n",
      " 1| 2| 42\n"
     ]
    }
   ],
   "source": [
    "print(side_by_side(1, 2))           # Two positional, 1 default\n",
    "## ' 1| 2| 42'\n",
    "print(side_by_side(1, 2, 3))       # Three positional\n",
    "## ' 1| 2| 3'\n",
    "print(side_by_side(a=1, b=2))       # Two keyword, 1 default\n",
    "## ' 1| 2| 42'\n",
    "print(side_by_side(c=3, b=1, a=2))  # Three keyword\n",
    "## ' 2| 1| 3'\n",
    "print(side_by_side(1, c=3, b=2))    # One positional, 2 keyword\n",
    "## ' 1| 2| 3'\n",
    "print(side_by_side(1, b=2))         # One positional, 1 keyword, 1 default\n",
    "## ' 1| 2| 42'"
   ]
  },
  {
   "cell_type": "markdown",
   "id": "6a605690-a7ab-482d-9a7e-0a868a3bbc7d",
   "metadata": {},
   "source": [
    "however, keyword followed by positional does not work!"
   ]
  },
  {
   "cell_type": "code",
   "execution_count": 19,
   "id": "c3665e72-30ca-49a5-bae6-22fb8e98d0a3",
   "metadata": {},
   "outputs": [
    {
     "ename": "SyntaxError",
     "evalue": "positional argument follows keyword argument (1103054085.py, line 1)",
     "output_type": "error",
     "traceback": [
      "\u001b[0;36m  Cell \u001b[0;32mIn[19], line 1\u001b[0;36m\u001b[0m\n\u001b[0;31m    side_by_side(a=2, 1)      # Won't work.\u001b[0m\n\u001b[0m                       ^\u001b[0m\n\u001b[0;31mSyntaxError\u001b[0m\u001b[0;31m:\u001b[0m positional argument follows keyword argument\n"
     ]
    }
   ],
   "source": [
    "side_by_side(a=2, 1)      # Won't work.  "
   ]
  },
  {
   "attachments": {},
   "cell_type": "markdown",
   "id": "e843e230",
   "metadata": {},
   "source": [
    "##  Docstrings\n",
    "allos us to document what a function does inside the function. the documentation is displayed when we ask python to shoe us the help info using help()"
   ]
  },
  {
   "cell_type": "code",
   "execution_count": 20,
   "id": "a201fe0a-7c49-4a66-ad16-96382cd46355",
   "metadata": {},
   "outputs": [],
   "source": [
    "def side_by_side(a, b, c=42):\n",
    "    '''\n",
    "    A test function to demonstrate how \n",
    "    positional, keyword and default arguments \n",
    "    work.\n",
    "    '''\n",
    "    return f'{a: 2d}|{b: 2d}|{c: 2d}'"
   ]
  },
  {
   "cell_type": "code",
   "execution_count": 21,
   "id": "a83d5116-c913-4d53-a833-43246c178ec5",
   "metadata": {},
   "outputs": [
    {
     "name": "stdout",
     "output_type": "stream",
     "text": [
      "Help on function side_by_side in module __main__:\n",
      "\n",
      "side_by_side(a, b, c=42)\n",
      "    A test function to demonstrate how \n",
      "    positional, keyword and default arguments \n",
      "    work.\n",
      "\n"
     ]
    }
   ],
   "source": [
    "help(side_by_side)"
   ]
  },
  {
   "attachments": {},
   "cell_type": "markdown",
   "id": "f1885320",
   "metadata": {},
   "source": [
    "##  Function are first-class citizens\n",
    "as the have the same privileges as variables. thus we can pass a function as an argument to another function "
   ]
  },
  {
   "cell_type": "code",
   "execution_count": 22,
   "id": "ae7d046a-a403-4ed3-bce8-c28bba9481ce",
   "metadata": {},
   "outputs": [],
   "source": [
    "import numpy as np"
   ]
  },
  {
   "cell_type": "code",
   "execution_count": 24,
   "id": "80a6f161-7eae-4144-b1a8-7dba7a9f220f",
   "metadata": {},
   "outputs": [
    {
     "name": "stdout",
     "output_type": "stream",
     "text": [
      "1.0\n",
      "6.123233995736766e-17\n",
      "-1.0\n"
     ]
    }
   ],
   "source": [
    "def my_function(angle, trig_function):\n",
    "        return trig_function(angle)\n",
    "\n",
    "# Let's use the function\n",
    "print(my_function(np.pi/2, np.sin))        \n",
    "## 1.0\n",
    "print(my_function(np.pi/2, np.cos))        \n",
    "## 6.123233995736766e-17\n",
    "print(my_function(np.pi/2, lambda x: np.cos(2*x)))  #function defined with lambda\n",
    "## -1.0"
   ]
  },
  {
   "cell_type": "code",
   "execution_count": 30,
   "id": "d7772a0a-5813-4201-91fa-e6b49b6804a4",
   "metadata": {},
   "outputs": [
    {
     "data": {
      "text/plain": [
       "1.0"
      ]
     },
     "execution_count": 30,
     "metadata": {},
     "output_type": "execute_result"
    }
   ],
   "source": [
    "my_function(np.pi/2, lambda x: np.cos(4*x))"
   ]
  },
  {
   "attachments": {},
   "cell_type": "markdown",
   "id": "a5c3ee11",
   "metadata": {},
   "source": [
    "## More about unpacking\n",
    "can make extracting info from lists and arrays a breeze "
   ]
  },
  {
   "cell_type": "code",
   "execution_count": 31,
   "id": "9caf7534-1898-454b-b8e6-b0c1a1cb412c",
   "metadata": {},
   "outputs": [
    {
     "data": {
      "text/plain": [
       "(1, 2, 3)"
      ]
     },
     "execution_count": 31,
     "metadata": {},
     "output_type": "execute_result"
    }
   ],
   "source": [
    "x, y, z = [1, 2, 3]\n",
    "x, y, z"
   ]
  },
  {
   "cell_type": "code",
   "execution_count": 32,
   "id": "60b78949-1c33-4d69-92da-5065e64f6abc",
   "metadata": {},
   "outputs": [
    {
     "data": {
      "text/plain": [
       "(1, 2, 3)"
      ]
     },
     "execution_count": 32,
     "metadata": {},
     "output_type": "execute_result"
    }
   ],
   "source": [
    "x, y, z = np.array([1, 2, 3])\n",
    "x, y, z"
   ]
  },
  {
   "cell_type": "code",
   "execution_count": 34,
   "id": "7585fef0-cb4f-4db7-97df-eeaea3fb7f7a",
   "metadata": {},
   "outputs": [
    {
     "data": {
      "text/plain": [
       "(1, [2, 3, 4], 5)"
      ]
     },
     "execution_count": 34,
     "metadata": {},
     "output_type": "execute_result"
    }
   ],
   "source": [
    "x, *y, z = np.array([1, 2, 3, 4, 5])   #this will specify the values that belong to y among all values \n",
    "x, y, z"
   ]
  },
  {
   "cell_type": "code",
   "execution_count": 35,
   "id": "ef5aa853-58ad-448a-9e96-f684d13c4375",
   "metadata": {},
   "outputs": [
    {
     "data": {
      "text/plain": [
       "(1, 5)"
      ]
     },
     "execution_count": 35,
     "metadata": {},
     "output_type": "execute_result"
    }
   ],
   "source": [
    "x, *_, y = [1, 2, 3, 4, 5] #this will show the values that are not in between \n",
    "x, y"
   ]
  }
 ],
 "metadata": {
  "kernelspec": {
   "display_name": "Python 3 (ipykernel)",
   "language": "python",
   "name": "python3"
  },
  "language_info": {
   "codemirror_mode": {
    "name": "ipython",
    "version": 3
   },
   "file_extension": ".py",
   "mimetype": "text/x-python",
   "name": "python",
   "nbconvert_exporter": "python",
   "pygments_lexer": "ipython3",
   "version": "3.11.7"
  },
  "toc": {
   "base_numbering": 1,
   "nav_menu": {},
   "number_sections": true,
   "sideBar": true,
   "skip_h1_title": false,
   "title_cell": "Table of Contents",
   "title_sidebar": "Contents",
   "toc_cell": false,
   "toc_position": {},
   "toc_section_display": true,
   "toc_window_display": false
  },
  "vscode": {
   "interpreter": {
    "hash": "31f2aee4e71d21fbe5cf8b01ff0e069b9275f58929596ceb00d14d90e3e16cd6"
   }
  }
 },
 "nbformat": 4,
 "nbformat_minor": 5
}
