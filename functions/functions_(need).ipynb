{
 "cells": [
  {
   "attachments": {},
   "cell_type": "markdown",
   "id": "123456",
   "metadata": {},
   "source": [
    "<div style=\"text-align:left;font-size:2em\"><span style=\"font-weight:bolder;font-size:1.25em\">SP2273 | Learning Portfolio</span><br><br><span style=\"font-weight:bold;color:darkred\">Functions (Need)</span></div>"
   ]
  },
  {
   "attachments": {},
   "cell_type": "markdown",
   "id": "af3cf7c2",
   "metadata": {},
   "source": [
    "# 1 User-defined functions \n",
    "creating your own functions in 2 ways - named and anonymous "
   ]
  },
  {
   "attachments": {},
   "cell_type": "markdown",
   "id": "94f064d5",
   "metadata": {},
   "source": [
    "## Named Functions\n",
    "defining a function: use def "
   ]
  },
  {
   "cell_type": "code",
   "execution_count": 6,
   "id": "bef57ca2-e19f-454d-9a08-17231a04887d",
   "metadata": {},
   "outputs": [],
   "source": [
    "def greeting(name):\n",
    "    if name == 'Batman':\n",
    "        return 'Hello Batman! So, nice to meet you!'    # to get an output from function\n",
    "    else:\n",
    "        return f'Hello {name}!'"
   ]
  },
  {
   "cell_type": "code",
   "execution_count": 4,
   "id": "d8668c10-2db1-4ddc-a229-a32598e05b1a",
   "metadata": {},
   "outputs": [
    {
     "data": {
      "text/plain": [
       "'Hello Super Man!'"
      ]
     },
     "execution_count": 4,
     "metadata": {},
     "output_type": "execute_result"
    }
   ],
   "source": [
    "greeting(\"Super Man\")     #either this"
   ]
  },
  {
   "cell_type": "code",
   "execution_count": 5,
   "id": "d27ad93e-d89a-466c-953e-fd5bf1db47bb",
   "metadata": {},
   "outputs": [
    {
     "data": {
      "text/plain": [
       "'Hello Super Man!'"
      ]
     },
     "execution_count": 5,
     "metadata": {},
     "output_type": "execute_result"
    }
   ],
   "source": [
    "greeting(name=\"Super Man\")    # or this"
   ]
  },
  {
   "cell_type": "code",
   "execution_count": 7,
   "id": "558669bd-1102-4922-b842-fbaa21ac7e38",
   "metadata": {},
   "outputs": [
    {
     "name": "stdout",
     "output_type": "stream",
     "text": [
      "Hello Super Man!\n"
     ]
    }
   ],
   "source": [
    "greet=greeting(name='Super Man')\n",
    "print(greet)"
   ]
  },
  {
   "cell_type": "code",
   "execution_count": 8,
   "id": "f366f5b7-1fe3-4c6c-ae75-f5ffe7c67e0e",
   "metadata": {},
   "outputs": [
    {
     "name": "stdout",
     "output_type": "stream",
     "text": [
      "Hello Super Man!\n"
     ]
    }
   ],
   "source": [
    "print(greeting(name='Super Man'))"
   ]
  },
  {
   "cell_type": "code",
   "execution_count": 10,
   "id": "8cfd8c43-c628-4d81-95f5-866f65959202",
   "metadata": {},
   "outputs": [
    {
     "data": {
      "text/plain": [
       "'Hello Batman! So, nice to meet you!'"
      ]
     },
     "execution_count": 10,
     "metadata": {},
     "output_type": "execute_result"
    }
   ],
   "source": [
    "greeting('Batman')"
   ]
  },
  {
   "cell_type": "markdown",
   "id": "869c6dbe-93f0-4ff3-99d7-afc104dcc6ed",
   "metadata": {},
   "source": [
    "we can only return within a function.\n",
    "below is an example of a function that accepts a list andf returns the max, min and mean. "
   ]
  },
  {
   "cell_type": "code",
   "execution_count": 13,
   "id": "c01b0f52-daa2-4141-b0ad-56d0ecc9c8f7",
   "metadata": {},
   "outputs": [],
   "source": [
    "import numpy as np "
   ]
  },
  {
   "cell_type": "code",
   "execution_count": 14,
   "id": "c2b4b02d-f4b5-44d5-8642-b062c8c7a9f0",
   "metadata": {},
   "outputs": [],
   "source": [
    "def basic_stats(numbers):\n",
    "    np_numbers = np.array(numbers)\n",
    "    my_min = np_numbers.min()\n",
    "    my_max = np_numbers.max()\n",
    "    my_mean = np_numbers.mean()\n",
    "    return my_max, my_min, my_mean"
   ]
  },
  {
   "cell_type": "code",
   "execution_count": 24,
   "id": "2d59b09a-72a5-4161-870e-4d328b7e4155",
   "metadata": {},
   "outputs": [],
   "source": [
    "list_max, list_min, list_mean = basic_stats([1, 2, 3, 4, 5])"
   ]
  },
  {
   "cell_type": "code",
   "execution_count": 25,
   "id": "fe7f1dd9-f405-4030-b7cd-e87c2e40c537",
   "metadata": {},
   "outputs": [
    {
     "name": "stdout",
     "output_type": "stream",
     "text": [
      "5\n"
     ]
    }
   ],
   "source": [
    "print(list_max)"
   ]
  },
  {
   "cell_type": "markdown",
   "id": "25836fcd-e7f3-45d2-854d-48e2e37ca469",
   "metadata": {},
   "source": [
    "since the function basic_stats is to return my_max, my_min and my_mean, when defining the new names to address the new set of numbers to input (list_max ...), must aligh accordingly. "
   ]
  },
  {
   "attachments": {},
   "cell_type": "markdown",
   "id": "f5614542",
   "metadata": {},
   "source": [
    "### Named functions that dont return\n",
    "eg. print() does not return a value. this is often used to save data to a file "
   ]
  },
  {
   "attachments": {},
   "cell_type": "markdown",
   "id": "09ace41d",
   "metadata": {},
   "source": [
    "## Anonymous/ lambda functions\n",
    "suitable for short one liners "
   ]
  },
  {
   "cell_type": "code",
   "execution_count": 26,
   "id": "7b720172-0ab4-4738-b647-93b81e08439a",
   "metadata": {},
   "outputs": [],
   "source": [
    "my_short_function = lambda name: f\"Hello {name}!\"   "
   ]
  },
  {
   "cell_type": "code",
   "execution_count": 29,
   "id": "657a79a6-591c-4a9c-8f42-062320507f27",
   "metadata": {},
   "outputs": [
    {
     "data": {
      "text/plain": [
       "'Hello Super Man!'"
      ]
     },
     "execution_count": 29,
     "metadata": {},
     "output_type": "execute_result"
    }
   ],
   "source": [
    "my_short_function(name=\"Super Man\")    # lambda function will always returns the value of the last statement"
   ]
  },
  {
   "cell_type": "markdown",
   "id": "f1e4adb9-29cc-4a95-b656-494da2d1678d",
   "metadata": {},
   "source": [
    "to sort the following 2D list, we can use sorted()"
   ]
  },
  {
   "cell_type": "code",
   "execution_count": 30,
   "id": "e5bb0c77-f197-4531-8163-512d6201f735",
   "metadata": {},
   "outputs": [],
   "source": [
    "numbers=[[9, 0, -10],\n",
    "         [8, 1, -11],\n",
    "         [7, 2, -12],\n",
    "         [6, 3, -13],\n",
    "         [5, 4, -14],\n",
    "         [4, 5, -15],\n",
    "         [3, 6, -16],\n",
    "         [2, 7, -17],\n",
    "         [1, 8, -18],\n",
    "         [0, 9, -19]]"
   ]
  },
  {
   "cell_type": "code",
   "execution_count": 33,
   "id": "4fb542c6-3cbd-4ffd-b40c-651b778f8a46",
   "metadata": {},
   "outputs": [
    {
     "data": {
      "text/plain": [
       "[[0, 9, -19],\n",
       " [1, 8, -18],\n",
       " [2, 7, -17],\n",
       " [3, 6, -16],\n",
       " [4, 5, -15],\n",
       " [5, 4, -14],\n",
       " [6, 3, -13],\n",
       " [7, 2, -12],\n",
       " [8, 1, -11],\n",
       " [9, 0, -10]]"
      ]
     },
     "execution_count": 33,
     "metadata": {},
     "output_type": "execute_result"
    }
   ],
   "source": [
    "sorted(numbers)   #this sorts based on the first elements of the sublist"
   ]
  },
  {
   "cell_type": "code",
   "execution_count": 35,
   "id": "ebc0abfd-2f3c-4158-825a-d5173bed78bd",
   "metadata": {},
   "outputs": [
    {
     "data": {
      "text/plain": [
       "[[9, 0, -10],\n",
       " [8, 1, -11],\n",
       " [7, 2, -12],\n",
       " [6, 3, -13],\n",
       " [5, 4, -14],\n",
       " [4, 5, -15],\n",
       " [3, 6, -16],\n",
       " [2, 7, -17],\n",
       " [1, 8, -18],\n",
       " [0, 9, -19]]"
      ]
     },
     "execution_count": 35,
     "metadata": {},
     "output_type": "execute_result"
    }
   ],
   "source": [
    "sorted(numbers, key=lambda x: x[1])  #this sorts based on the 2nd element (index=1)"
   ]
  },
  {
   "cell_type": "code",
   "execution_count": 37,
   "id": "d86c80e4-418f-4c88-8026-8231f64b695a",
   "metadata": {},
   "outputs": [
    {
     "data": {
      "text/plain": [
       "[[0, 9, -19],\n",
       " [1, 8, -18],\n",
       " [2, 7, -17],\n",
       " [3, 6, -16],\n",
       " [4, 5, -15],\n",
       " [5, 4, -14],\n",
       " [6, 3, -13],\n",
       " [7, 2, -12],\n",
       " [8, 1, -11],\n",
       " [9, 0, -10]]"
      ]
     },
     "execution_count": 37,
     "metadata": {},
     "output_type": "execute_result"
    }
   ],
   "source": [
    "sorted(numbers, key=lambda x:sum(x))  #thi sorts based on the sum of the elements"
   ]
  },
  {
   "attachments": {},
   "cell_type": "markdown",
   "id": "94af5fa1",
   "metadata": {},
   "source": [
    "## Optional arguments"
   ]
  },
  {
   "cell_type": "code",
   "execution_count": 38,
   "id": "7ae97e92-1fc0-4a11-864e-a47d878c047f",
   "metadata": {},
   "outputs": [],
   "source": [
    "def greeting(name='no one'):\n",
    "    if name == 'Batman':\n",
    "        return 'Hello Batman! So, nice to meet you!'\n",
    "    else:\n",
    "        return f'Hello {name}!'"
   ]
  },
  {
   "cell_type": "code",
   "execution_count": 39,
   "id": "6f239f09-8fd0-4eb7-912f-a4c41fb331d8",
   "metadata": {},
   "outputs": [
    {
     "data": {
      "text/plain": [
       "'Hello no one!'"
      ]
     },
     "execution_count": 39,
     "metadata": {},
     "output_type": "execute_result"
    }
   ],
   "source": [
    "greeting()"
   ]
  },
  {
   "cell_type": "markdown",
   "id": "afd864f7-5b72-4931-8b41-c374ace01dae",
   "metadata": {},
   "source": [
    "to see the other arguments that are optional with default values for print,"
   ]
  },
  {
   "cell_type": "code",
   "execution_count": 46,
   "id": "860c7d13-1ad0-4652-8dcc-eaef47bb6553",
   "metadata": {},
   "outputs": [
    {
     "data": {
      "text/plain": [
       "\u001b[0;31mSignature:\u001b[0m \u001b[0mprint\u001b[0m\u001b[0;34m(\u001b[0m\u001b[0;34m*\u001b[0m\u001b[0margs\u001b[0m\u001b[0;34m,\u001b[0m \u001b[0msep\u001b[0m\u001b[0;34m=\u001b[0m\u001b[0;34m' '\u001b[0m\u001b[0;34m,\u001b[0m \u001b[0mend\u001b[0m\u001b[0;34m=\u001b[0m\u001b[0;34m'\\n'\u001b[0m\u001b[0;34m,\u001b[0m \u001b[0mfile\u001b[0m\u001b[0;34m=\u001b[0m\u001b[0;32mNone\u001b[0m\u001b[0;34m,\u001b[0m \u001b[0mflush\u001b[0m\u001b[0;34m=\u001b[0m\u001b[0;32mFalse\u001b[0m\u001b[0;34m)\u001b[0m\u001b[0;34m\u001b[0m\u001b[0;34m\u001b[0m\u001b[0m\n",
       "\u001b[0;31mDocstring:\u001b[0m\n",
       "Prints the values to a stream, or to sys.stdout by default.\n",
       "\n",
       "sep\n",
       "  string inserted between values, default a space.\n",
       "end\n",
       "  string appended after the last value, default a newline.\n",
       "file\n",
       "  a file-like object (stream); defaults to the current sys.stdout.\n",
       "flush\n",
       "  whether to forcibly flush the stream.\n",
       "\u001b[0;31mType:\u001b[0m      builtin_function_or_method"
      ]
     },
     "metadata": {},
     "output_type": "display_data"
    }
   ],
   "source": [
    "?print   "
   ]
  },
  {
   "cell_type": "code",
   "execution_count": 44,
   "id": "37f52c4d-d9ad-4d7d-8328-ac6c9a85d068",
   "metadata": {},
   "outputs": [
    {
     "name": "stdout",
     "output_type": "stream",
     "text": [
      "I am Batman!\n"
     ]
    }
   ],
   "source": [
    "# Using default values\n",
    "print('I', 'am', 'Batman!')"
   ]
  },
  {
   "cell_type": "code",
   "execution_count": 45,
   "id": "251600e6-03fe-47d8-a2a1-c87d1cb0bb72",
   "metadata": {},
   "outputs": [
    {
     "name": "stdout",
     "output_type": "stream",
     "text": [
      "I---am---Batman!\n"
     ]
    }
   ],
   "source": [
    "# Specifying an optional argument\n",
    "print('I', 'am', 'Batman!', sep='---')  "
   ]
  },
  {
   "attachments": {},
   "cell_type": "markdown",
   "id": "235647a7",
   "metadata": {},
   "source": [
    "## The importance of functions?"
   ]
  },
  {
   "cell_type": "markdown",
   "id": "6da2c2ff-2ff8-4ae8-bd6f-a4c1d70384fb",
   "metadata": {},
   "source": [
    "functions break up complicated solutions into chunks, to allow dealing with details bit by bit without being distracted by unnecessary information. this is called 'abstraction'"
   ]
  },
  {
   "cell_type": "markdown",
   "id": "5614faa7-92a5-4f04-a201-c75e3f2ee12f",
   "metadata": {},
   "source": [
    "if a chunk of code is encapsulated in a function, this becomes straightforward and easy to reuse the code "
   ]
  },
  {
   "cell_type": "markdown",
   "id": "1a6bbf4c-4877-4da1-acaf-1d805510dfc8",
   "metadata": {},
   "source": [
    "it is easier to maintain the code and change it as only the definition of the function has to be changed \n"
   ]
  }
 ],
 "metadata": {
  "kernelspec": {
   "display_name": "Python 3 (ipykernel)",
   "language": "python",
   "name": "python3"
  },
  "language_info": {
   "codemirror_mode": {
    "name": "ipython",
    "version": 3
   },
   "file_extension": ".py",
   "mimetype": "text/x-python",
   "name": "python",
   "nbconvert_exporter": "python",
   "pygments_lexer": "ipython3",
   "version": "3.11.7"
  },
  "toc": {
   "base_numbering": 1,
   "nav_menu": {},
   "number_sections": true,
   "sideBar": true,
   "skip_h1_title": false,
   "title_cell": "Table of Contents",
   "title_sidebar": "Contents",
   "toc_cell": false,
   "toc_position": {},
   "toc_section_display": true,
   "toc_window_display": false
  },
  "vscode": {
   "interpreter": {
    "hash": "31f2aee4e71d21fbe5cf8b01ff0e069b9275f58929596ceb00d14d90e3e16cd6"
   }
  }
 },
 "nbformat": 4,
 "nbformat_minor": 5
}
