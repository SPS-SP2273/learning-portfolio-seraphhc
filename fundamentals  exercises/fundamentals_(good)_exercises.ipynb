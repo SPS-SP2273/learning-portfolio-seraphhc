{
 "cells": [
  {
   "attachments": {},
   "cell_type": "markdown",
   "id": "123456",
   "metadata": {},
   "source": [
    "<div style=\"text-align:left;font-size:2em\"><span style=\"font-weight:bolder;font-size:1.25em\">SP2273 | Learning Portfolio</span><br><br><span style=\"font-weight:bold;color:darkred\">Fundamentals (Good) Exercises</span></div>"
   ]
  },
  {
   "cell_type": "markdown",
   "id": "7a11f5bc-da52-44ec-ad75-52dc1c99aa3b",
   "metadata": {},
   "source": [
    "Exercise 1"
   ]
  },
  {
   "cell_type": "raw",
   "id": "0e74afc1-13d8-4df9-98fb-300db05d80ed",
   "metadata": {},
   "source": [
    "input() allows you to solicit info from user"
   ]
  },
  {
   "cell_type": "code",
   "execution_count": 2,
   "id": "796263d0-0e27-4a35-9ee7-704a3f18824a",
   "metadata": {},
   "outputs": [
    {
     "name": "stdin",
     "output_type": "stream",
     "text": [
      "Give me a number? 90\n"
     ]
    },
    {
     "name": "stdout",
     "output_type": "stream",
     "text": [
      "You entered 90\n"
     ]
    }
   ],
   "source": [
    "user_input = input('Give me a number?')\n",
    "print('You entered', user_input)"
   ]
  },
  {
   "cell_type": "code",
   "execution_count": 4,
   "id": "228bd635-8ed3-4506-a551-3225faa43e6e",
   "metadata": {},
   "outputs": [
    {
     "name": "stdin",
     "output_type": "stream",
     "text": [
      "Give me a number? fire\n"
     ]
    },
    {
     "name": "stdout",
     "output_type": "stream",
     "text": [
      "You entered fire\n"
     ]
    }
   ],
   "source": [
    "user_input = input('Give me a number?')\n",
    "print('You entered', user_input)"
   ]
  },
  {
   "cell_type": "code",
   "execution_count": 6,
   "id": "f5656b3b-9fa9-445b-ac7c-7a4bcbad9b28",
   "metadata": {},
   "outputs": [
    {
     "name": "stdin",
     "output_type": "stream",
     "text": [
      "Give me a number? \\\\\n"
     ]
    },
    {
     "name": "stdout",
     "output_type": "stream",
     "text": [
      "You entered \\\\\n"
     ]
    }
   ],
   "source": [
    "user_input = input('Give me a number?')\n",
    "print('You entered', user_input)"
   ]
  },
  {
   "cell_type": "markdown",
   "id": "6a087624-e31c-4686-899b-4be583e3b65d",
   "metadata": {},
   "source": [
    "Task"
   ]
  },
  {
   "cell_type": "code",
   "execution_count": 66,
   "id": "baf5dd4c-d5ee-4d9e-a716-59ca907f52cc",
   "metadata": {},
   "outputs": [
    {
     "name": "stdin",
     "output_type": "stream",
     "text": [
      "What is your grade? 101\n"
     ]
    },
    {
     "name": "stdout",
     "output_type": "stream",
     "text": [
      "Student's grade: 101\n",
      "Grade range is 0-100, Enter a valid grade.\n"
     ]
    }
   ],
   "source": [
    "try: \n",
    "    grade_input = int(input('What is your grade?'))\n",
    "    print('Student\\'s grade:', grade_input)\n",
    "    if 70 <= grade_input <= 100:\n",
    "        print('Student\\'s letter grade: A')\n",
    "    elif 50 <= grade_input < 70:\n",
    "        print('Student\\'s letter grade: B')\n",
    "    elif 35 <= grade_input < 50:\n",
    "        print('Student\\'s letter grade: C')\n",
    "    elif 0 <= grade_input < 35:\n",
    "        print('Student\\'s letter grade: Fail')\n",
    "    else:\n",
    "        print('Grade range is 0-100, Enter a valid grade.')\n",
    "except ValueError: \n",
    "    print('Input needs to be an integer! Please enter a valid integer.')\n"
   ]
  },
  {
   "cell_type": "code",
   "execution_count": 68,
   "id": "e36bc80e-ae6f-4f7d-b08b-ae0ce837f6b8",
   "metadata": {},
   "outputs": [
    {
     "name": "stdin",
     "output_type": "stream",
     "text": [
      "What is your grade? hi\n"
     ]
    },
    {
     "name": "stdout",
     "output_type": "stream",
     "text": [
      "Input needs to be an integer! Please enter a valid integer.\n"
     ]
    }
   ],
   "source": [
    "try: \n",
    "    grade_input = int(input('What is your grade?'))\n",
    "    print('Student\\'s grade:', grade_input)\n",
    "    if 70 <= grade_input <= 100:\n",
    "        print('Student\\'s letter grade: A')\n",
    "    elif 50 <= grade_input < 70:\n",
    "        print('Student\\'s letter grade: B')\n",
    "    elif 35 <= grade_input < 50:\n",
    "        print('Student\\'s letter grade: C')\n",
    "    elif 0 <= grade_input < 35:\n",
    "        print('Student\\'s letter grade: Fail')\n",
    "    else:\n",
    "        print('Grade range is 0-100, Enter a valid grade.')\n",
    "except ValueError: \n",
    "    print('Input needs to be an integer! Please enter a valid integer.')\n"
   ]
  },
  {
   "cell_type": "code",
   "execution_count": 57,
   "id": "5aa016fa-1b11-4bb3-bc98-a2b7faf5ef23",
   "metadata": {},
   "outputs": [
    {
     "name": "stdin",
     "output_type": "stream",
     "text": [
      "What is your grade? 35\n"
     ]
    },
    {
     "name": "stdout",
     "output_type": "stream",
     "text": [
      "Student's grade: 35\n",
      "Student's letter grade: C\n"
     ]
    }
   ],
   "source": [
    "grade_input = int(input('What is your grade?'))\n",
    "print('Student\\'s grade:', grade_input)\n",
    "if 70 <= grade_input <= 100:\n",
    "    print('Student\\'s letter grade: A')\n",
    "elif 50 <= grade_input < 70:\n",
    "    print('Student\\'s letter grade: B')\n",
    "elif 35 <= grade_input < 50:\n",
    "    print('Student\\'s letter grade: C')\n",
    "elif 0 <= grade_input < 35:\n",
    "    print('Student\\'s letter grade: Fail')\n",
    "else:\n",
    "    print('error')"
   ]
  },
  {
   "cell_type": "code",
   "execution_count": 58,
   "id": "1221ded3-128b-4f9c-9818-fec414fa6b66",
   "metadata": {},
   "outputs": [
    {
     "name": "stdin",
     "output_type": "stream",
     "text": [
      "What is your grade? 0\n"
     ]
    },
    {
     "name": "stdout",
     "output_type": "stream",
     "text": [
      "Student's grade: 0\n",
      "Student's letter grade: Fail\n"
     ]
    }
   ],
   "source": [
    "grade_input = int(input('What is your grade?'))\n",
    "print('Student\\'s grade:', grade_input)\n",
    "if 70 <= grade_input <= 100:\n",
    "    print('Student\\'s letter grade: A')\n",
    "elif 50 <= grade_input < 70:\n",
    "    print('Student\\'s letter grade: B')\n",
    "elif 35 <= grade_input < 50:\n",
    "    print('Student\\'s letter grade: C')\n",
    "elif 0 <= grade_input < 35:\n",
    "    print('Student\\'s letter grade: Fail')\n",
    "else:\n",
    "    print('error')"
   ]
  },
  {
   "cell_type": "code",
   "execution_count": 59,
   "id": "34a7be1a-cdb4-4b87-88e9-d257863e7745",
   "metadata": {},
   "outputs": [
    {
     "name": "stdin",
     "output_type": "stream",
     "text": [
      "What is your grade? hi\n"
     ]
    },
    {
     "ename": "ValueError",
     "evalue": "invalid literal for int() with base 10: 'hi'",
     "output_type": "error",
     "traceback": [
      "\u001b[0;31m---------------------------------------------------------------------------\u001b[0m",
      "\u001b[0;31mValueError\u001b[0m                                Traceback (most recent call last)",
      "Cell \u001b[0;32mIn[59], line 1\u001b[0m\n\u001b[0;32m----> 1\u001b[0m grade_input \u001b[38;5;241m=\u001b[39m \u001b[38;5;28;43mint\u001b[39;49m\u001b[43m(\u001b[49m\u001b[38;5;28;43minput\u001b[39;49m\u001b[43m(\u001b[49m\u001b[38;5;124;43m'\u001b[39;49m\u001b[38;5;124;43mWhat is your grade?\u001b[39;49m\u001b[38;5;124;43m'\u001b[39;49m\u001b[43m)\u001b[49m\u001b[43m)\u001b[49m\n\u001b[1;32m      2\u001b[0m \u001b[38;5;28mprint\u001b[39m(\u001b[38;5;124m'\u001b[39m\u001b[38;5;124mStudent\u001b[39m\u001b[38;5;130;01m\\'\u001b[39;00m\u001b[38;5;124ms grade:\u001b[39m\u001b[38;5;124m'\u001b[39m, grade_input)\n\u001b[1;32m      3\u001b[0m \u001b[38;5;28;01mif\u001b[39;00m \u001b[38;5;241m70\u001b[39m \u001b[38;5;241m<\u001b[39m\u001b[38;5;241m=\u001b[39m grade_input \u001b[38;5;241m<\u001b[39m\u001b[38;5;241m=\u001b[39m \u001b[38;5;241m100\u001b[39m:\n",
      "\u001b[0;31mValueError\u001b[0m: invalid literal for int() with base 10: 'hi'"
     ]
    }
   ],
   "source": [
    "grade_input = int(input('What is your grade?'))\n",
    "print('Student\\'s grade:', grade_input)\n",
    "if 70 <= grade_input <= 100:\n",
    "    print('Student\\'s letter grade: A')\n",
    "elif 50 <= grade_input < 70:\n",
    "    print('Student\\'s letter grade: B')\n",
    "elif 35 <= grade_input < 50:\n",
    "    print('Student\\'s letter grade: C')\n",
    "elif 0 <= grade_input < 35:\n",
    "    print('Student\\'s letter grade: Fail')\n",
    "else:\n",
    "    print('error')"
   ]
  }
 ],
 "metadata": {
  "kernelspec": {
   "display_name": "Python 3 (ipykernel)",
   "language": "python",
   "name": "python3"
  },
  "language_info": {
   "codemirror_mode": {
    "name": "ipython",
    "version": 3
   },
   "file_extension": ".py",
   "mimetype": "text/x-python",
   "name": "python",
   "nbconvert_exporter": "python",
   "pygments_lexer": "ipython3",
   "version": "3.11.7"
  },
  "toc": {
   "base_numbering": 1,
   "nav_menu": {},
   "number_sections": true,
   "sideBar": true,
   "skip_h1_title": false,
   "title_cell": "Table of Contents",
   "title_sidebar": "Contents",
   "toc_cell": false,
   "toc_position": {},
   "toc_section_display": true,
   "toc_window_display": false
  },
  "vscode": {
   "interpreter": {
    "hash": "31f2aee4e71d21fbe5cf8b01ff0e069b9275f58929596ceb00d14d90e3e16cd6"
   }
  }
 },
 "nbformat": 4,
 "nbformat_minor": 5
}
