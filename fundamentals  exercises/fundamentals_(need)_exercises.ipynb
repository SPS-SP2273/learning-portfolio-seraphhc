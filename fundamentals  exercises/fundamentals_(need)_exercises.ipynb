{
 "cells": [
  {
   "attachments": {},
   "cell_type": "markdown",
   "id": "123456",
   "metadata": {},
   "source": [
    "<div style=\"text-align:left;font-size:2em\"><span style=\"font-weight:bolder;font-size:1.25em\">SP2273 | Learning Portfolio</span><br><br><span style=\"font-weight:bold;color:darkred\">Fundamentals (Need) Exercise</span></div>"
   ]
  },
  {
   "cell_type": "markdown",
   "id": "55ed7a68-6fc6-4337-afdf-aa731974e09b",
   "metadata": {},
   "source": [
    "Exercise 1 \n",
    "- **print(' ')** is a function\n",
    "- **=** is used to assign a value\n",
    "- **==** is used to check is something is equal\n",
    "- **()** is for functions and math\n",
    "- **[]** is for lists\n",
    "- **{}** is to store data in a dictionary\n",
    "- import is to import programs like math and numpy \n",
    "- *if is used to branch the flow of the program and make decision*\n",
    "- *. indicates ownership*\n",
    "- *: and indentations are used to define what to do if an answer is true / false*\n"
   ]
  },
  {
   "cell_type": "markdown",
   "id": "eaab602c-b738-409d-9ffa-f26bff3a7edd",
   "metadata": {},
   "source": [
    "Exercise 2 "
   ]
  },
  {
   "cell_type": "code",
   "execution_count": 11,
   "id": "2454a9ad-ba63-4f59-a280-c89e2be9b84f",
   "metadata": {},
   "outputs": [],
   "source": [
    "import numpy as np"
   ]
  },
  {
   "cell_type": "code",
   "execution_count": 20,
   "id": "e41b589f-32e3-4aaa-b6ab-71152d59694a",
   "metadata": {},
   "outputs": [
    {
     "name": "stdout",
     "output_type": "stream",
     "text": [
      "3 4 5.0\n"
     ]
    }
   ],
   "source": [
    "x, y = [3, 4]\n",
    "z = np.sqrt(x**2 + y**2)\n",
    "print(x, y, z)"
   ]
  },
  {
   "cell_type": "markdown",
   "id": "3194f119-3336-49e9-aac9-443a6ddb3ee4",
   "metadata": {},
   "source": [
    "Exercise 3\n",
    "| #  | Term         | Description                                            |\n",
    "|:---|:------------:|--------------------------------------------------------|\n",
    "| 1  | Function     | Does a specific action                                 |\n",
    "| 2  | Argument     | the result desired from a function                     |\n",
    "| 3  | Comments     | ignored by python; using a #                           |\n",
    "| 4  | Indentations | a space which is recognised to seperate true and false |\n",
    "| 5  | Packages     | may be imported to boost the skills of python          |\n",
    "| 6  | .            | indicates ownership                                    |\n",
    "| 7  | :            | seperates a code from another                          |\n",
    "| 8  | []           | for a list of data                                     |\n",
    "| 9  | [[[]]]       | for multiple lists of data (columns)                   |\n",
    "| 10 | {}           | to store data in a dictionary                          |"
   ]
  },
  {
   "cell_type": "markdown",
   "id": "448afb92-1b57-4750-9efa-c1d30367af80",
   "metadata": {},
   "source": [
    "Exercise 4 "
   ]
  },
  {
   "cell_type": "code",
   "execution_count": 24,
   "id": "bb1d3aef-f995-410c-988c-e3df08a2f1db",
   "metadata": {},
   "outputs": [
    {
     "data": {
      "text/plain": [
       "2.5"
      ]
     },
     "execution_count": 24,
     "metadata": {},
     "output_type": "execute_result"
    }
   ],
   "source": [
    "5/2      # ans for equally dividing 5 by 2 "
   ]
  },
  {
   "cell_type": "code",
   "execution_count": 22,
   "id": "3b294797-7768-48cd-822e-92f872f38e53",
   "metadata": {},
   "outputs": [
    {
     "data": {
      "text/plain": [
       "2"
      ]
     },
     "execution_count": 22,
     "metadata": {},
     "output_type": "execute_result"
    }
   ],
   "source": [
    "5//2   # divided 5 by 2 and rounded down the answer to the closest smallest whole no. "
   ]
  },
  {
   "cell_type": "code",
   "execution_count": 23,
   "id": "512bcece-5976-4cbb-9e34-61ff30a91af4",
   "metadata": {},
   "outputs": [
    {
     "data": {
      "text/plain": [
       "1"
      ]
     },
     "execution_count": 23,
     "metadata": {},
     "output_type": "execute_result"
    }
   ],
   "source": [
    "5%2  # the remainder of 5 divided by 2 "
   ]
  }
 ],
 "metadata": {
  "kernelspec": {
   "display_name": "Python 3 (ipykernel)",
   "language": "python",
   "name": "python3"
  },
  "language_info": {
   "codemirror_mode": {
    "name": "ipython",
    "version": 3
   },
   "file_extension": ".py",
   "mimetype": "text/x-python",
   "name": "python",
   "nbconvert_exporter": "python",
   "pygments_lexer": "ipython3",
   "version": "3.11.7"
  },
  "toc": {
   "base_numbering": 1,
   "nav_menu": {},
   "number_sections": true,
   "sideBar": true,
   "skip_h1_title": false,
   "title_cell": "Table of Contents",
   "title_sidebar": "Contents",
   "toc_cell": false,
   "toc_position": {},
   "toc_section_display": true,
   "toc_window_display": false
  },
  "vscode": {
   "interpreter": {
    "hash": "31f2aee4e71d21fbe5cf8b01ff0e069b9275f58929596ceb00d14d90e3e16cd6"
   }
  }
 },
 "nbformat": 4,
 "nbformat_minor": 5
}
