{
 "cells": [
  {
   "attachments": {},
   "cell_type": "markdown",
   "id": "123456",
   "metadata": {},
   "source": [
    "<div style=\"text-align:left;font-size:2em\"><span style=\"font-weight:bolder;font-size:1.25em\">SP2273 | Learning Portfolio</span><br><br><span style=\"font-weight:bold;color:darkred\">Fundamentals (Need)</span></div>"
   ]
  },
  {
   "attachments": {},
   "cell_type": "markdown",
   "id": "9810a590",
   "metadata": {},
   "source": [
    "# 1 Functions"
   ]
  },
  {
   "cell_type": "code",
   "execution_count": 2,
   "id": "d17a2ef1-c22f-4be7-af66-452877ca16a6",
   "metadata": {},
   "outputs": [
    {
     "name": "stdout",
     "output_type": "stream",
     "text": [
      "Hello world!\n"
     ]
    }
   ],
   "source": [
    "print('Hello world!')"
   ]
  },
  {
   "attachments": {},
   "cell_type": "markdown",
   "id": "8e99fa65",
   "metadata": {},
   "source": [
    "# Python is interpreted\n",
    "### sequential, one command at a time "
   ]
  },
  {
   "attachments": {},
   "cell_type": "markdown",
   "id": "9cf662ba",
   "metadata": {},
   "source": [
    "# Python is case sensitive."
   ]
  },
  {
   "attachments": {},
   "cell_type": "markdown",
   "id": "3f967115",
   "metadata": {},
   "source": [
    "# Comments\n",
    "using a # inputs a comment (the words after) and it is ignored by python "
   ]
  },
  {
   "cell_type": "code",
   "execution_count": 5,
   "id": "85edeaac-66c0-4271-a2b2-5f42f252f01d",
   "metadata": {},
   "outputs": [],
   "source": [
    "# this is a comment\n",
    "# print('Hello World')\n"
   ]
  },
  {
   "attachments": {},
   "cell_type": "markdown",
   "id": "e8786f51",
   "metadata": {},
   "source": [
    "# = is not the same as ==\n",
    "= is used to assign a value\n",
    "\n",
    "== is used to check if smth is equal "
   ]
  },
  {
   "cell_type": "code",
   "execution_count": 6,
   "id": "dfbd9eff-327a-41d4-80e7-791963a9bd58",
   "metadata": {},
   "outputs": [],
   "source": [
    "name = 'Batman'"
   ]
  },
  {
   "cell_type": "code",
   "execution_count": 7,
   "id": "69df42b3-eac4-4d85-9518-c375b8dbb256",
   "metadata": {},
   "outputs": [
    {
     "data": {
      "text/plain": [
       "True"
      ]
     },
     "execution_count": 7,
     "metadata": {},
     "output_type": "execute_result"
    }
   ],
   "source": [
    "name == 'Batman'"
   ]
  },
  {
   "attachments": {},
   "cell_type": "markdown",
   "id": "7e100542",
   "metadata": {},
   "source": [
    "# Use if to make decisions"
   ]
  },
  {
   "cell_type": "code",
   "execution_count": 11,
   "id": "5c270ea9-a0f1-4e58-b87d-0a6bdba581c3",
   "metadata": {},
   "outputs": [
    {
     "name": "stdout",
     "output_type": "stream",
     "text": [
      "Hello Batman!\n"
     ]
    }
   ],
   "source": [
    "if name == 'Batman': \n",
    "    print('Hello Batman!') \n",
    "else: \n",
    "    print('Hello World')"
   ]
  },
  {
   "attachments": {},
   "cell_type": "markdown",
   "id": "0b65423b",
   "metadata": {},
   "source": [
    "# Indentations (spaces) are sooo IMPORTANT!\n",
    "indentations seperate the true and false blocks. best to use tab key for indentation "
   ]
  },
  {
   "attachments": {},
   "cell_type": "markdown",
   "id": "300769fd",
   "metadata": {},
   "source": [
    "# 14 ‘age’ is English, age is a variable.\n",
    "variables are words that hold information. eg. age\n",
    "printing age will give a value, while printing \"age\" will print the word age "
   ]
  },
  {
   "cell_type": "code",
   "execution_count": 13,
   "id": "fd01c7bb-5621-445c-a47a-ef39d8af1b2c",
   "metadata": {},
   "outputs": [
    {
     "name": "stdout",
     "output_type": "stream",
     "text": [
      "10\n"
     ]
    }
   ],
   "source": [
    "age = 10 \n",
    "print(age)"
   ]
  },
  {
   "cell_type": "code",
   "execution_count": 16,
   "id": "318b0ae0-6002-4f35-ab22-3e8c8c03968c",
   "metadata": {},
   "outputs": [
    {
     "name": "stdout",
     "output_type": "stream",
     "text": [
      "age\n"
     ]
    }
   ],
   "source": [
    "print(\"age\")"
   ]
  },
  {
   "attachments": {},
   "cell_type": "markdown",
   "id": "94fbdc80",
   "metadata": {},
   "source": [
    "# Brackets \n",
    "( ) - used for calls to function, math \n",
    "[ ] - for lists of data \n",
    "{ } - to store data in a dictionary "
   ]
  },
  {
   "cell_type": "code",
   "execution_count": 17,
   "id": "289ee655-3405-46cb-8894-2d5a39c504e7",
   "metadata": {},
   "outputs": [
    {
     "data": {
      "text/plain": [
       "15"
      ]
     },
     "execution_count": 17,
     "metadata": {},
     "output_type": "execute_result"
    }
   ],
   "source": [
    "(1+2)*5"
   ]
  },
  {
   "cell_type": "code",
   "execution_count": 18,
   "id": "c66a67a9-9dff-462a-be88-4811b762cf83",
   "metadata": {},
   "outputs": [],
   "source": [
    "py_list = [1, 2, 3, 4, 5]"
   ]
  },
  {
   "cell_type": "code",
   "execution_count": 24,
   "id": "ca4efa69-9f38-434c-86b7-8156eae8ecb3",
   "metadata": {},
   "outputs": [
    {
     "name": "stdout",
     "output_type": "stream",
     "text": [
      "[1, 2, 3, 4, 5]\n"
     ]
    }
   ],
   "source": [
    "print(py_list)"
   ]
  },
  {
   "cell_type": "code",
   "execution_count": 21,
   "id": "4d90e0c6-8b48-45c2-8089-341495079148",
   "metadata": {},
   "outputs": [],
   "source": [
    "personal_info = {\n",
    "    'Names': 'Batman',\n",
    "    'Real Name': 'Bruce Wayne',\n",
    "    'Age': 55 \n",
    "}"
   ]
  },
  {
   "cell_type": "code",
   "execution_count": 22,
   "id": "dbbe9181-7271-4781-a5a6-68ecc9082d19",
   "metadata": {},
   "outputs": [
    {
     "name": "stdout",
     "output_type": "stream",
     "text": [
      "Bruce Wayne\n"
     ]
    }
   ],
   "source": [
    "print(personal_info ['Real Name'])"
   ]
  },
  {
   "attachments": {},
   "cell_type": "markdown",
   "id": "06fdb104",
   "metadata": {},
   "source": [
    "# Giving Python superpowers with Packages\n",
    "python cannot calculate square roots, but we can make it do so by importing math packages. "
   ]
  },
  {
   "cell_type": "code",
   "execution_count": 25,
   "id": "aad02d25-cfd0-43fb-afc9-a9982639b4b4",
   "metadata": {},
   "outputs": [],
   "source": [
    "import math "
   ]
  },
  {
   "cell_type": "code",
   "execution_count": 26,
   "id": "e93853e8-fef8-4ca8-8ebc-96bf1b1f1238",
   "metadata": {},
   "outputs": [
    {
     "data": {
      "text/plain": [
       "2.0"
      ]
     },
     "execution_count": 26,
     "metadata": {},
     "output_type": "execute_result"
    }
   ],
   "source": [
    "math.sqrt(4)"
   ]
  },
  {
   "cell_type": "code",
   "execution_count": 31,
   "id": "5eaa5fd5-7a5e-4688-bbb4-39f6613eb7bd",
   "metadata": {},
   "outputs": [],
   "source": [
    "import numpy as np        \n",
    "# this is another pacakage that offers sqrt function that can handle a list of numbers "
   ]
  },
  {
   "cell_type": "code",
   "execution_count": 32,
   "id": "906f667c-94ea-4966-b08f-18b879a5393f",
   "metadata": {},
   "outputs": [
    {
     "data": {
      "text/plain": [
       "array([2., 3., 4.])"
      ]
     },
     "execution_count": 32,
     "metadata": {},
     "output_type": "execute_result"
    }
   ],
   "source": [
    "np.sqrt([4, 9, 16])"
   ]
  },
  {
   "attachments": {},
   "cell_type": "markdown",
   "id": "09eaef4b",
   "metadata": {},
   "source": [
    "# The dot (.) indicates ownership \n",
    "math.sqrt(4) means that the sqrt belongs to math "
   ]
  },
  {
   "cell_type": "code",
   "execution_count": 33,
   "id": "23801602-3a9b-4288-99f7-d6ef3193333d",
   "metadata": {},
   "outputs": [
    {
     "data": {
      "text/plain": [
       "['I', 'am', 'Batman']"
      ]
     },
     "execution_count": 33,
     "metadata": {},
     "output_type": "execute_result"
    }
   ],
   "source": [
    "\"I am Batman\".split()"
   ]
  },
  {
   "attachments": {},
   "cell_type": "markdown",
   "id": "ab8ef98c",
   "metadata": {},
   "source": [
    "# 19 Remember"
   ]
  },
  {
   "attachments": {},
   "cell_type": "markdown",
   "id": "eaa6bf67",
   "metadata": {},
   "source": [
    "## Footnotes"
   ]
  }
 ],
 "metadata": {
  "kernelspec": {
   "display_name": "Python 3 (ipykernel)",
   "language": "python",
   "name": "python3"
  },
  "language_info": {
   "codemirror_mode": {
    "name": "ipython",
    "version": 3
   },
   "file_extension": ".py",
   "mimetype": "text/x-python",
   "name": "python",
   "nbconvert_exporter": "python",
   "pygments_lexer": "ipython3",
   "version": "3.11.7"
  },
  "toc": {
   "base_numbering": 1,
   "nav_menu": {},
   "number_sections": true,
   "sideBar": true,
   "skip_h1_title": false,
   "title_cell": "Table of Contents",
   "title_sidebar": "Contents",
   "toc_cell": false,
   "toc_position": {},
   "toc_section_display": true,
   "toc_window_display": false
  },
  "vscode": {
   "interpreter": {
    "hash": "31f2aee4e71d21fbe5cf8b01ff0e069b9275f58929596ceb00d14d90e3e16cd6"
   }
  }
 },
 "nbformat": 4,
 "nbformat_minor": 5
}
