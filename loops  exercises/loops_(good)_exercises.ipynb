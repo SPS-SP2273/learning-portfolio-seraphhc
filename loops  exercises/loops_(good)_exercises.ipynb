{
 "cells": [
  {
   "attachments": {},
   "cell_type": "markdown",
   "id": "123456",
   "metadata": {},
   "source": [
    "<div style=\"text-align:left;font-size:2em\"><span style=\"font-weight:bolder;font-size:1.25em\">SP2273 | Learning Portfolio</span><br><br><span style=\"font-weight:bold;color:darkred\">Loops (Good) Exercises</span></div>"
   ]
  },
  {
   "cell_type": "markdown",
   "id": "7ec614e1-3e05-4b15-af53-088cd7ba78e4",
   "metadata": {},
   "source": [
    "Exercise 1"
   ]
  },
  {
   "cell_type": "code",
   "execution_count": 7,
   "id": "c5dd1906-b78c-4a39-b83f-a7947a983945",
   "metadata": {},
   "outputs": [
    {
     "name": "stdout",
     "output_type": "stream",
     "text": [
      "1\n",
      "9\n",
      "25\n",
      "49\n",
      "81\n"
     ]
    }
   ],
   "source": [
    "for number in range(10):     #made this thinking of removing even numbers in the range before squaring\n",
    "    if number % 2 == 0:\n",
    "        continue\n",
    "    print(number**2)"
   ]
  },
  {
   "cell_type": "code",
   "execution_count": 8,
   "id": "b314211f-ec7d-4bca-ae2e-88398984adb8",
   "metadata": {},
   "outputs": [
    {
     "name": "stdout",
     "output_type": "stream",
     "text": [
      "1\n",
      "9\n",
      "25\n",
      "49\n",
      "81\n"
     ]
    }
   ],
   "source": [
    "for number in range(10):   # made this thinking of removing outputs that are even after squared\n",
    "    n = number**2 \n",
    "    if n % 2 == 0:\n",
    "        continue \n",
    "    print(n)"
   ]
  },
  {
   "cell_type": "markdown",
   "id": "8f2145c4-7aa4-4142-9b9b-4f5db79afeef",
   "metadata": {},
   "source": [
    "Exercise 2"
   ]
  },
  {
   "cell_type": "code",
   "execution_count": 15,
   "id": "e952b8b5-80be-4979-8ce6-8cda300155bd",
   "metadata": {},
   "outputs": [
    {
     "data": {
      "text/plain": [
       "[1, 9, 25, 49, 81]"
      ]
     },
     "execution_count": 15,
     "metadata": {},
     "output_type": "execute_result"
    }
   ],
   "source": [
    "[number**2 for number in range(10) if number**2 % 2 > 0 ]"
   ]
  },
  {
   "cell_type": "markdown",
   "id": "2ba9b274-6ce1-4bb8-b300-71cc3bb08f0f",
   "metadata": {},
   "source": [
    "Exercise 3"
   ]
  },
  {
   "cell_type": "code",
   "execution_count": 35,
   "id": "4a6c8243-76e4-4f6d-9bff-fc5f8dea900e",
   "metadata": {},
   "outputs": [
    {
     "name": "stdout",
     "output_type": "stream",
     "text": [
      "298 ns ± 0.508 ns per loop (mean ± std. dev. of 7 runs, 1,000,000 loops each)\n"
     ]
    }
   ],
   "source": [
    "%%timeit\n",
    "for number in range(10):  \n",
    "    if number % 2 == 0:\n",
    "        continue         #i can only run the cell w/o the print statement. does this make the time wrong?"
   ]
  },
  {
   "cell_type": "code",
   "execution_count": 36,
   "id": "6163b1eb-0eed-4721-bbb7-616966e46f08",
   "metadata": {},
   "outputs": [
    {
     "name": "stdout",
     "output_type": "stream",
     "text": [
      "621 ns ± 3.14 ns per loop (mean ± std. dev. of 7 runs, 1,000,000 loops each)\n"
     ]
    }
   ],
   "source": [
    "%%timeit\n",
    "[number**2 for number in range(10) if number**2 % 2 > 0 ]"
   ]
  },
  {
   "cell_type": "markdown",
   "id": "aab3d87d-048d-468b-bb62-46414e0fc22b",
   "metadata": {},
   "source": [
    "it seems like the first method is faster."
   ]
  },
  {
   "cell_type": "markdown",
   "id": "b35fc40a-90c2-4ac9-a998-94bf80d46663",
   "metadata": {},
   "source": [
    "Exercise 4"
   ]
  },
  {
   "cell_type": "code",
   "execution_count": 61,
   "id": "802cce55-f9ec-44b0-a6cf-ac33ca065c91",
   "metadata": {},
   "outputs": [
    {
     "name": "stdout",
     "output_type": "stream",
     "text": [
      "1 95.0\n",
      "2 90.25\n",
      "3 85.7375\n",
      "4 81.45062499999999\n",
      "5 77.37809374999999\n",
      "6 73.50918906249998\n",
      "7 69.83372960937498\n",
      "8 66.34204312890623\n",
      "9 63.02494097246091\n",
      "10 59.87369392383786\n",
      "11 56.880009227645964\n",
      "12 54.03600876626366\n",
      "13 51.33420832795048\n",
      "14 48.76749791155295\n"
     ]
    }
   ],
   "source": [
    "number = 100\n",
    "x=0 \n",
    "while True: \n",
    "    number*=(95/100)\n",
    "    x += 1\n",
    "    print(x,number)\n",
    "    if number < 50: break"
   ]
  },
  {
   "cell_type": "markdown",
   "id": "170a70c5-e4e3-4d2b-9834-f632ea3c3524",
   "metadata": {},
   "source": [
    "it will take around 14 years to reach half its original amt"
   ]
  },
  {
   "cell_type": "markdown",
   "id": "5ac1013f-9d15-4d11-94b0-4390809a0d87",
   "metadata": {},
   "source": [
    "Exercise 5 "
   ]
  },
  {
   "cell_type": "code",
   "execution_count": 44,
   "id": "47d72dfa-599e-425b-a19a-a0472463ebd2",
   "metadata": {},
   "outputs": [],
   "source": [
    "co2_data = [\n",
    "    (2000, 369.55), (2001, 371.14), (2002, 373.28), \n",
    "    (2003, 375.80), (2004, 377.52), (2005, 379.80), \n",
    "    (2006, 381.90), (2007, 383.79), (2008, 385.60), \n",
    "    (2009, 387.43), (2010, 389.90), (2011, 391.65), \n",
    "    (2012, 393.85), (2013, 396.52), (2014, 398.65),\n",
    "    (2015, 400.83), (2016, 404.24), (2017, 406.55), \n",
    "    (2018, 408.52), (2019, 411.44), (2020, 414.24)\n",
    "]"
   ]
  },
  {
   "cell_type": "code",
   "execution_count": 93,
   "id": "b2403ad1-2086-4136-9976-5e62386d9542",
   "metadata": {},
   "outputs": [
    {
     "name": "stdout",
     "output_type": "stream",
     "text": [
      "from year 2015 to 2016 there was an increase of 3.410000000000025ppm\n"
     ]
    }
   ],
   "source": [
    "x=0\n",
    "for x in range(len(co2_data)):\n",
    "    if co2_data[x+1][1]- co2_data[x][1] >= 3:\n",
    "        print(f'from year {co2_data[x][0]} to {co2_data[x+1][0]} there was an increase of {co2_data[x+1][1]- co2_data[x][1]}ppm')\n",
    "    x += 1 \n",
    "    if x > 19: break"
   ]
  }
 ],
 "metadata": {
  "kernelspec": {
   "display_name": "Python 3 (ipykernel)",
   "language": "python",
   "name": "python3"
  },
  "language_info": {
   "codemirror_mode": {
    "name": "ipython",
    "version": 3
   },
   "file_extension": ".py",
   "mimetype": "text/x-python",
   "name": "python",
   "nbconvert_exporter": "python",
   "pygments_lexer": "ipython3",
   "version": "3.11.7"
  },
  "toc": {
   "base_numbering": 1,
   "nav_menu": {},
   "number_sections": true,
   "sideBar": true,
   "skip_h1_title": false,
   "title_cell": "Table of Contents",
   "title_sidebar": "Contents",
   "toc_cell": false,
   "toc_position": {},
   "toc_section_display": true,
   "toc_window_display": false
  },
  "vscode": {
   "interpreter": {
    "hash": "31f2aee4e71d21fbe5cf8b01ff0e069b9275f58929596ceb00d14d90e3e16cd6"
   }
  }
 },
 "nbformat": 4,
 "nbformat_minor": 5
}
