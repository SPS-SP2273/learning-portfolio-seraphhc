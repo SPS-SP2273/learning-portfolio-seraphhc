{
 "cells": [
  {
   "cell_type": "markdown",
   "id": "b643ee3b-9c99-4d26-838b-9d383878bc2c",
   "metadata": {},
   "source": [
    "<div style=\"text-align:left;font-size:2em\"><span style=\"font-weight:bolder;font-size:1.25em\">SP2273 | Learning Portfolio</span><br><br><span style=\"font-weight:bold;color:darkred\">Loops (Need) Exercises</span></div>"
   ]
  },
  {
   "cell_type": "markdown",
   "id": "e29316e0-dd2a-450e-8b88-0894c5d141ff",
   "metadata": {},
   "source": [
    "Exercise 1"
   ]
  },
  {
   "cell_type": "code",
   "execution_count": 1,
   "id": "0de02ccb-4c90-49ea-935c-71d6e2897d86",
   "metadata": {},
   "outputs": [],
   "source": [
    "temperatures_celsius = [\n",
    "    0, 5, 10, 15, 20, 25,\n",
    "    30, 35, 40, 45, 50\n",
    "]"
   ]
  },
  {
   "cell_type": "code",
   "execution_count": 4,
   "id": "1cc01972-d59f-44a0-91cc-d09d7da5ba4e",
   "metadata": {},
   "outputs": [],
   "source": [
    "import numpy as np "
   ]
  },
  {
   "cell_type": "code",
   "execution_count": 5,
   "id": "66025a44-53f1-432a-ab81-68abeaaefe25",
   "metadata": {},
   "outputs": [],
   "source": [
    "np_temp_celsius = np.array(temperatures_celsius)"
   ]
  },
  {
   "cell_type": "code",
   "execution_count": 6,
   "id": "013eed2e-1a23-4297-8b76-61d132d01906",
   "metadata": {},
   "outputs": [],
   "source": [
    "temp_fahrenheit = (np_temp_celsius * 9/5) + 32"
   ]
  },
  {
   "cell_type": "code",
   "execution_count": 7,
   "id": "ba7b5425-8c2d-4d2e-8de7-29cea6665903",
   "metadata": {},
   "outputs": [
    {
     "name": "stdout",
     "output_type": "stream",
     "text": [
      "0 in celsius is 32.0 in fahrenheit\n",
      "5 in celsius is 41.0 in fahrenheit\n",
      "10 in celsius is 50.0 in fahrenheit\n",
      "15 in celsius is 59.0 in fahrenheit\n",
      "20 in celsius is 68.0 in fahrenheit\n",
      "25 in celsius is 77.0 in fahrenheit\n",
      "30 in celsius is 86.0 in fahrenheit\n",
      "35 in celsius is 95.0 in fahrenheit\n",
      "40 in celsius is 104.0 in fahrenheit\n",
      "45 in celsius is 113.0 in fahrenheit\n",
      "50 in celsius is 122.0 in fahrenheit\n"
     ]
    }
   ],
   "source": [
    "for t in range(len(temperatures_celsius)):\n",
    "    celsius = temperatures_celsius[t]\n",
    "    fahrenheit = temp_fahrenheit[t]\n",
    "    print(f\"{celsius} in celsius is {fahrenheit} in fahrenheit\")\n",
    "    "
   ]
  },
  {
   "cell_type": "markdown",
   "id": "e2284fe9-9558-4865-b93a-6285866bbe62",
   "metadata": {},
   "source": [
    "Exercise 2"
   ]
  },
  {
   "cell_type": "code",
   "execution_count": 8,
   "id": "77140e8a-70b8-4884-91e7-1f957b271315",
   "metadata": {},
   "outputs": [
    {
     "name": "stdout",
     "output_type": "stream",
     "text": [
      "A1\tA2\tA3\t\n",
      "\n",
      "B1\tB2\tB3\t\n",
      "\n",
      "C1\tC2\tC3\t\n",
      "\n"
     ]
    }
   ],
   "source": [
    "for letter in ['A', 'B', 'C']:\n",
    "    for number in [1, 2, 3]:\n",
    "        print(f'{letter}{number}', end='\\t')\n",
    "    print('\\n')"
   ]
  },
  {
   "cell_type": "code",
   "execution_count": 9,
   "id": "a204cfa6-77c9-417c-b464-613ef02b427d",
   "metadata": {},
   "outputs": [
    {
     "name": "stdout",
     "output_type": "stream",
     "text": [
      "A1\n",
      "A2\n",
      "A3\n",
      "B1\n",
      "B2\n",
      "B3\n",
      "C1\n",
      "C2\n",
      "C3\n"
     ]
    }
   ],
   "source": [
    "for letter in ['A', 'B', 'C']:\n",
    "    for number in [1, 2, 3]:\n",
    "        print(f'{letter}{number}')"
   ]
  },
  {
   "cell_type": "code",
   "execution_count": 10,
   "id": "fd910e04-cb7c-4fb7-b7f6-76ae6ce02d47",
   "metadata": {},
   "outputs": [
    {
     "name": "stdout",
     "output_type": "stream",
     "text": [
      "A1\n",
      "A2\n",
      "A3\n",
      "\n",
      "\n",
      "B1\n",
      "B2\n",
      "B3\n",
      "\n",
      "\n",
      "C1\n",
      "C2\n",
      "C3\n",
      "\n",
      "\n"
     ]
    }
   ],
   "source": [
    "for letter in ['A', 'B', 'C']:\n",
    "    for number in [1, 2, 3]:\n",
    "        print(f'{letter}{number}')     # print('\\n') adds a space betwwen each letter\n",
    "    print('\\n')"
   ]
  },
  {
   "cell_type": "code",
   "execution_count": 11,
   "id": "fbd7a504-f40f-40a2-bf46-2706e2c741fa",
   "metadata": {},
   "outputs": [
    {
     "name": "stdout",
     "output_type": "stream",
     "text": [
      "A1\tA2\tA3\tB1\tB2\tB3\tC1\tC2\tC3\t"
     ]
    }
   ],
   "source": [
    "for letter in ['A', 'B', 'C']:\n",
    "    for number in [1, 2, 3]:\n",
    "        print(f'{letter}{number}', end='\\t') #end='\\t'adds a space between each elememt horizontally"
   ]
  },
  {
   "cell_type": "markdown",
   "id": "10b57f4e-752a-4fa3-bd9e-a1fed104049b",
   "metadata": {},
   "source": [
    "TASK"
   ]
  },
  {
   "cell_type": "code",
   "execution_count": 12,
   "id": "e511f51b-b695-42a0-940e-8360aeb690e2",
   "metadata": {},
   "outputs": [],
   "source": [
    "one = [1, 2, 3, 4, 5]\n",
    "two = [2, 4, 6, 8, 10]\n",
    "three = [3, 6 ,9 ,12, 15]\n",
    "four = [4, 8, 12, 16, 20] \n",
    "five = [5, 10, 15, 20, 25]"
   ]
  },
  {
   "cell_type": "code",
   "execution_count": 13,
   "id": "1cf91fdc-86af-400d-b774-14bcff0e29f8",
   "metadata": {},
   "outputs": [
    {
     "name": "stdout",
     "output_type": "stream",
     "text": [
      "1:[1, 2, 3, 4, 5]\n",
      "2:[2, 4, 6, 8, 10]\n",
      "3:[3, 6, 9, 12, 15]\n",
      "4:[4, 8, 12, 16, 20]\n",
      "5:[5, 10, 15, 20, 25]\n"
     ]
    }
   ],
   "source": [
    "for n in range(1, 6):\n",
    "    for number in [one, two, three, four, five]:\n",
    "        if n == number[0]:\n",
    "            print(f'{n}:{number}')"
   ]
  }
 ],
 "metadata": {
  "kernelspec": {
   "display_name": "Python 3 (ipykernel)",
   "language": "python",
   "name": "python3"
  },
  "language_info": {
   "codemirror_mode": {
    "name": "ipython",
    "version": 3
   },
   "file_extension": ".py",
   "mimetype": "text/x-python",
   "name": "python",
   "nbconvert_exporter": "python",
   "pygments_lexer": "ipython3",
   "version": "3.11.7"
  }
 },
 "nbformat": 4,
 "nbformat_minor": 5
}
