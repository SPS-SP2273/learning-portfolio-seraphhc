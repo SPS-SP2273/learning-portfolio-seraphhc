{
 "cells": [
  {
   "attachments": {},
   "cell_type": "markdown",
   "id": "123456",
   "metadata": {},
   "source": [
    "<div style=\"text-align:left;font-size:2em\"><span style=\"font-weight:bolder;font-size:1.25em\">SP2273 | Learning Portfolio</span><br><br><span style=\"font-weight:bold;color:darkred\">Loops (Need)</span></div>"
   ]
  },
  {
   "attachments": {},
   "cell_type": "markdown",
   "id": "f4a06739",
   "metadata": {},
   "source": [
    "# 1 The for iterator\n",
    "for loop "
   ]
  },
  {
   "cell_type": "code",
   "execution_count": 1,
   "id": "1fd12e32-6ad4-4dd5-bf9f-fd10e4f9d9ef",
   "metadata": {},
   "outputs": [],
   "source": [
    "real_names = [\"Natasha Romanoff\", \"Tony Stark\", \"Stephen Strange\"]"
   ]
  },
  {
   "cell_type": "code",
   "execution_count": 2,
   "id": "62321acb-8002-4bfe-a9bb-957708fb18a3",
   "metadata": {},
   "outputs": [
    {
     "name": "stdout",
     "output_type": "stream",
     "text": [
      "Natasha Romanoff is a Marvel superhero!\n",
      "Tony Stark is a Marvel superhero!\n",
      "Stephen Strange is a Marvel superhero!\n"
     ]
    }
   ],
   "source": [
    "name=real_names[0]                       #poor way of doing this as: \n",
    "print(f\"{name} is a Marvel superhero!\")  # does not sacle well (if have 100 names?!)\n",
    "                                         # cumbersome to make changes\n",
    "name=real_names[1]                       # highly error prone to type again and again\n",
    "print(f\"{name} is a Marvel superhero!\")\n",
    "\n",
    "name=real_names[2]\n",
    "print(f\"{name} is a Marvel superhero!\")"
   ]
  },
  {
   "attachments": {},
   "cell_type": "markdown",
   "id": "2c3695a7",
   "metadata": {},
   "source": [
    "## for with a list"
   ]
  },
  {
   "cell_type": "code",
   "execution_count": 3,
   "id": "346c1995-b472-40b8-aa5f-0cc9492b677d",
   "metadata": {},
   "outputs": [
    {
     "name": "stdout",
     "output_type": "stream",
     "text": [
      "Natasha Romanoff is a Marvel superhero!\n",
      "Tony Stark is a Marvel superhero!\n",
      "Stephen Strange is a Marvel superhero!\n"
     ]
    }
   ],
   "source": [
    "for name in real_names:\n",
    "    print(f\"{name} is a Marvel superhero!\")"
   ]
  },
  {
   "cell_type": "code",
   "execution_count": 8,
   "id": "028ada8a-ea40-4440-b945-075c103458e5",
   "metadata": {},
   "outputs": [
    {
     "name": "stdout",
     "output_type": "stream",
     "text": [
      "Natasha Romanoff is a Marvel superhero!\n",
      "Tony Stark is a Marvel superhero!\n",
      "Stephen Strange is a Marvel superhero!\n"
     ]
    }
   ],
   "source": [
    "for x in real_names:                    #nothing specoal about names of variables. \n",
    "    print(f\"{x} is a Marvel superhero!\")\n"
   ]
  },
  {
   "attachments": {},
   "cell_type": "markdown",
   "id": "4c01c9ed",
   "metadata": {},
   "source": [
    "## for with enumerate"
   ]
  },
  {
   "cell_type": "code",
   "execution_count": 9,
   "id": "34e97433-105b-471b-b5c0-ff7f339a06c5",
   "metadata": {},
   "outputs": [],
   "source": [
    "super_names = [\"Black Widow\", \"Iron Man\", \"Doctor Strange\"]\n",
    "real_names = [\"Natasha Romanoff\", \"Tony Stark\", \"Stephen Strange\"]"
   ]
  },
  {
   "cell_type": "markdown",
   "id": "6aad8a56-63d8-4cf5-a2f3-e487286d2a64",
   "metadata": {},
   "source": [
    "since for only accepts one list, need to use enumerate() to access data in both lists. enumerate is something that keeps count "
   ]
  },
  {
   "cell_type": "code",
   "execution_count": 10,
   "id": "a98e7e7b-8769-4156-af55-8d882ccab44e",
   "metadata": {},
   "outputs": [
    {
     "name": "stdout",
     "output_type": "stream",
     "text": [
      "0: Natasha Romanoff is a Marvel superhero!\n",
      "1: Tony Stark is a Marvel superhero!\n",
      "2: Stephen Strange is a Marvel superhero!\n"
     ]
    }
   ],
   "source": [
    "for count, name in enumerate(real_names):\n",
    "    print(f'{count}: {name} is a Marvel superhero!')"
   ]
  },
  {
   "cell_type": "markdown",
   "id": "62775908-410d-4d54-a2e6-521e390cf6a4",
   "metadata": {},
   "source": [
    "we can use count given by enumerate() go index the other list"
   ]
  },
  {
   "cell_type": "code",
   "execution_count": 11,
   "id": "0ff16d11-bde9-4455-bc79-d640795970f8",
   "metadata": {},
   "outputs": [
    {
     "name": "stdout",
     "output_type": "stream",
     "text": [
      "Natasha Romanoff is Black Widow!\n",
      "Tony Stark is Iron Man!\n",
      "Stephen Strange is Doctor Strange!\n"
     ]
    }
   ],
   "source": [
    "for index, name in enumerate(real_names):\n",
    "    superhero_name = super_names[index]\n",
    "    print(f'{name} is {superhero_name}!')"
   ]
  },
  {
   "cell_type": "markdown",
   "id": "654f37ff-cf39-4f7d-90d8-a97e1815fe9b",
   "metadata": {},
   "source": [
    "**use count for the initial list, and index for the other list**"
   ]
  },
  {
   "cell_type": "markdown",
   "id": "e4a01a7d-c1f2-4bdb-82c1-cba4a08f1ac1",
   "metadata": {},
   "source": [
    "by default, enumerate() starts counting from 0, but we can make it start at another value easily:"
   ]
  },
  {
   "cell_type": "code",
   "execution_count": 12,
   "id": "82c09b75-0a95-4490-8d55-fc87940466c4",
   "metadata": {},
   "outputs": [
    {
     "name": "stdout",
     "output_type": "stream",
     "text": [
      "100:Natasha Romanoff is a Marvel superhero!\n",
      "101:Tony Stark is a Marvel superhero!\n",
      "102:Stephen Strange is a Marvel superhero!\n"
     ]
    }
   ],
   "source": [
    "for count, name in enumerate(real_names, 100):\n",
    "    print(f'{count}:{name} is a Marvel superhero!')"
   ]
  },
  {
   "attachments": {},
   "cell_type": "markdown",
   "id": "d1c4c7a9",
   "metadata": {},
   "source": [
    "## for with range\n",
    "we can get range() to get the for loop to run a given number of loops"
   ]
  },
  {
   "cell_type": "code",
   "execution_count": 13,
   "id": "7f0cd481-21d4-4221-9b3a-37183450dca8",
   "metadata": {},
   "outputs": [
    {
     "name": "stdout",
     "output_type": "stream",
     "text": [
      "0\n",
      "1\n",
      "2\n",
      "3\n",
      "4\n"
     ]
    }
   ],
   "source": [
    "for i in range(5):\n",
    "    print(i)"
   ]
  },
  {
   "cell_type": "code",
   "execution_count": 16,
   "id": "be34a1b8-7ae1-4d04-adfa-b53b571b2469",
   "metadata": {},
   "outputs": [
    {
     "name": "stdout",
     "output_type": "stream",
     "text": [
      "5\n",
      "6\n",
      "7\n",
      "8\n",
      "9\n"
     ]
    }
   ],
   "source": [
    "for i in range(5, 10):    #range always end one short of the ending number\n",
    "    print(i)"
   ]
  },
  {
   "cell_type": "code",
   "execution_count": 15,
   "id": "a105da1c-8580-414e-a9d1-ec855c3c118e",
   "metadata": {},
   "outputs": [
    {
     "name": "stdout",
     "output_type": "stream",
     "text": [
      "1\n",
      "4\n",
      "7\n"
     ]
    }
   ],
   "source": [
    "for i in range(1, 10, 3):     #this is to adjust the step size\n",
    "    print(i)"
   ]
  },
  {
   "cell_type": "code",
   "execution_count": 17,
   "id": "6282638c-4c8b-41cf-9a67-bcfc98b35efb",
   "metadata": {},
   "outputs": [
    {
     "name": "stdout",
     "output_type": "stream",
     "text": [
      "Natasha Romanoff is Marvel's Black Widow!\n",
      "Tony Stark is Marvel's Iron Man!\n",
      "Stephen Strange is Marvel's Doctor Strange!\n"
     ]
    }
   ],
   "source": [
    "for i in range(len(real_names)):      #lens(real_name) to get how many times the loops should run\n",
    "    real_name = real_names[i]       \n",
    "    super_name = super_names[i]        \n",
    "    print(f\"{real_name} is Marvel's {super_name}!\")"
   ]
  },
  {
   "attachments": {},
   "cell_type": "markdown",
   "id": "403a8800",
   "metadata": {},
   "source": [
    "# 2 while\n",
    "while loops is set up so that it keeps on running while a condition is True "
   ]
  },
  {
   "cell_type": "code",
   "execution_count": 18,
   "id": "2c288b8d-05c6-4830-a06f-d8fa9ddf51ba",
   "metadata": {},
   "outputs": [
    {
     "name": "stdout",
     "output_type": "stream",
     "text": [
      "0\n",
      "1\n",
      "2\n",
      "3\n",
      "4\n"
     ]
    }
   ],
   "source": [
    "number = 0\n",
    "\n",
    "while number < 5:\n",
    "    print(number)\n",
    "    number += 1"
   ]
  },
  {
   "cell_type": "code",
   "execution_count": 2,
   "id": "b2d46b6e-fb62-4851-b38f-c61430e3e2bc",
   "metadata": {},
   "outputs": [],
   "source": [
    "one = [1, 2, 3, 4, 5]\n",
    "two = [2, 4, 6, 8, 10]\n",
    "three = [3, 6 ,9 ,12, 15]\n",
    "four = [4, 8, 12, 16, 20] \n",
    "five = [5, 10, 15, 20, 25]"
   ]
  },
  {
   "cell_type": "code",
   "execution_count": 5,
   "id": "42994ba0-cd9b-4026-806f-fc58a192492b",
   "metadata": {},
   "outputs": [
    {
     "name": "stdout",
     "output_type": "stream",
     "text": [
      "1:[1, 2, 3, 4, 5]\n",
      "2:[2, 4, 6, 8, 10]\n",
      "3:[3, 6, 9, 12, 15]\n",
      "4:[4, 8, 12, 16, 20]\n",
      "5:[5, 10, 15, 20, 25]\n"
     ]
    }
   ],
   "source": [
    "for n in range(1, 6):\n",
    "    for number in [one, two, three, four, five]:\n",
    "        if n == number[0]:\n",
    "            print(f'{n}:{number}')"
   ]
  }
 ],
 "metadata": {
  "kernelspec": {
   "display_name": "Python 3 (ipykernel)",
   "language": "python",
   "name": "python3"
  },
  "language_info": {
   "codemirror_mode": {
    "name": "ipython",
    "version": 3
   },
   "file_extension": ".py",
   "mimetype": "text/x-python",
   "name": "python",
   "nbconvert_exporter": "python",
   "pygments_lexer": "ipython3",
   "version": "3.11.7"
  },
  "toc": {
   "base_numbering": 1,
   "nav_menu": {},
   "number_sections": true,
   "sideBar": true,
   "skip_h1_title": false,
   "title_cell": "Table of Contents",
   "title_sidebar": "Contents",
   "toc_cell": false,
   "toc_position": {},
   "toc_section_display": true,
   "toc_window_display": false
  },
  "vscode": {
   "interpreter": {
    "hash": "31f2aee4e71d21fbe5cf8b01ff0e069b9275f58929596ceb00d14d90e3e16cd6"
   }
  }
 },
 "nbformat": 4,
 "nbformat_minor": 5
}
