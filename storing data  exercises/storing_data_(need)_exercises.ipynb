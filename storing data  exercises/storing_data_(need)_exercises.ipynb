{
 "cells": [
  {
   "attachments": {},
   "cell_type": "markdown",
   "id": "123456",
   "metadata": {},
   "source": [
    "<div style=\"text-align:left;font-size:2em\"><span style=\"font-weight:bolder;font-size:1.25em\">SP2273 | Learning Portfolio</span><br><br><span style=\"font-weight:bold;color:darkred\">Storing Data (Need) Exercises</span></div>"
   ]
  },
  {
   "cell_type": "markdown",
   "id": "57a203f6-19cb-4031-bb9d-9484f960394e",
   "metadata": {},
   "source": [
    "Exercise 1\n",
    "1. both lists and arrays store data\n",
    "1. arrays allow operations to be completed on elements, while operaions on a list work on the whole list\n"
   ]
  },
  {
   "cell_type": "markdown",
   "id": "c4d3aa49-67d2-4e1b-a5dd-f2d5074e92e0",
   "metadata": {},
   "source": [
    "Exercise 2"
   ]
  },
  {
   "cell_type": "code",
   "execution_count": 3,
   "id": "6d755153-bcca-418f-85be-e640fc5ddfa2",
   "metadata": {},
   "outputs": [],
   "source": [
    "import numpy as np"
   ]
  },
  {
   "cell_type": "code",
   "execution_count": 11,
   "id": "0854f3ea-cc9a-4203-9830-eaa7b096fd66",
   "metadata": {},
   "outputs": [
    {
     "name": "stdout",
     "output_type": "stream",
     "text": [
      "a1\n",
      "c3\n",
      "e5\n",
      "g7\n",
      "i9\n"
     ]
    }
   ],
   "source": [
    "py_list = [\"a1\", \"b2\", \"c3\", \"d4\", \"e5\", \"f6\", \"g7\", \"h8\", \"i9\", \"j10\"]\n",
    "print(py_list[0])    # Prints 'a1'\n",
    "print(py_list[2])    # Prints 'c3'\n",
    "print(py_list[4])    # Prints 'e5'\n",
    "print(py_list[6])    # Prints 'g7'\n",
    "print(py_list[8])    # Prints 'i9'"
   ]
  },
  {
   "cell_type": "code",
   "execution_count": 25,
   "id": "fb4f8bb0-1f14-4544-8275-7050cea19059",
   "metadata": {},
   "outputs": [
    {
     "name": "stdout",
     "output_type": "stream",
     "text": [
      "a1\n",
      "c3\n",
      "e5\n",
      "g7\n",
      "i9\n"
     ]
    }
   ],
   "source": [
    "for n in py_list[::2]:  # searched the web to find this trick (slicing?)\n",
    "    print(n) "
   ]
  },
  {
   "cell_type": "markdown",
   "id": "67368001-1ec5-4a38-a47d-5a9ac8583c19",
   "metadata": {},
   "source": [
    "Exercise 3 "
   ]
  },
  {
   "cell_type": "code",
   "execution_count": 15,
   "id": "4dfccf40-ecec-4820-a327-1fc6ab2730e1",
   "metadata": {},
   "outputs": [],
   "source": [
    "elements = ['Hydrogen',\n",
    "            'Helium', 'Lithium',\n",
    "            'Beryllium', 'Boron', 'Carbon',\n",
    "            'Nitrogen', 'Oxygen',\n",
    "            'Fluorine',\n",
    "            'Neon']"
   ]
  },
  {
   "cell_type": "code",
   "execution_count": 17,
   "id": "b6092a4e-01c5-4f48-94d1-57c3e0c1f72c",
   "metadata": {},
   "outputs": [
    {
     "name": "stdout",
     "output_type": "stream",
     "text": [
      "Beryllium\n"
     ]
    }
   ],
   "source": [
    "print(elements[3])  #1. this is the element at index 4"
   ]
  },
  {
   "cell_type": "code",
   "execution_count": 18,
   "id": "de30d4f3-c2cc-46e2-96dc-adde726a9d01",
   "metadata": {},
   "outputs": [
    {
     "name": "stdout",
     "output_type": "stream",
     "text": [
      "Beryllium\n"
     ]
    }
   ],
   "source": [
    "print(elements[-7])  #2. "
   ]
  },
  {
   "cell_type": "markdown",
   "id": "1d602e09-a827-4192-81b0-d32188fcdb92",
   "metadata": {},
   "source": [
    "Exercise 4"
   ]
  },
  {
   "cell_type": "code",
   "execution_count": 5,
   "id": "521cf513-c7a9-4931-a399-9bedb2a88fa8",
   "metadata": {},
   "outputs": [],
   "source": [
    "numbers=[45, 60, 1, 30, 96, 1, 96, 57, 16, 1,\n",
    "        99, 62, 86, 43, 42, 60, 59, 1, 1, 35,\n",
    "        83, 47, 34, 28, 68, 23, 22, 92, 1, 79,\n",
    "        1, 29, 94, 72, 46, 47, 1, 74, 32, 20,\n",
    "        8, 37, 35, 1, 89, 29, 86, 19, 43, 61]                  "
   ]
  },
  {
   "cell_type": "code",
   "execution_count": 6,
   "id": "94bdaccf-f3fd-4a47-9c76-c14f7863cdfb",
   "metadata": {},
   "outputs": [],
   "source": [
    "np_array = np.array(numbers)"
   ]
  },
  {
   "cell_type": "code",
   "execution_count": 23,
   "id": "f443e9a7-6bea-4fe6-82c1-0cf5486a5494",
   "metadata": {},
   "outputs": [
    {
     "data": {
      "text/plain": [
       "array([False, False,  True, False, False,  True, False, False, False,\n",
       "        True, False, False, False, False, False, False, False,  True,\n",
       "        True, False, False, False, False, False, False, False, False,\n",
       "       False,  True, False,  True, False, False, False, False, False,\n",
       "        True, False, False, False, False, False, False,  True, False,\n",
       "       False, False, False, False, False])"
      ]
     },
     "execution_count": 23,
     "metadata": {},
     "output_type": "execute_result"
    }
   ],
   "source": [
    "np_array == 1"
   ]
  },
  {
   "cell_type": "code",
   "execution_count": 25,
   "id": "27edf490-5cb8-4c56-94ec-e121a4ccede8",
   "metadata": {},
   "outputs": [],
   "source": [
    "ans = ([False, False,  True, False, False,  True, False, False, False,\n",
    "        True, False, False, False, False, False, False, False,  True,\n",
    "        True, False, False, False, False, False, False, False, False,\n",
    "       False,  True, False,  True, False, False, False, False, False,\n",
    "        True, False, False, False, False, False, False,  True, False,\n",
    "       False, False, False, False, False])\n"
   ]
  },
  {
   "cell_type": "code",
   "execution_count": 26,
   "id": "4d9f5069-a62c-4673-97ec-21372d56fdce",
   "metadata": {},
   "outputs": [
    {
     "data": {
      "text/plain": [
       "9"
      ]
     },
     "execution_count": 26,
     "metadata": {},
     "output_type": "execute_result"
    }
   ],
   "source": [
    "sum(ans)"
   ]
  },
  {
   "cell_type": "code",
   "execution_count": 9,
   "id": "b28e3c94-59cc-4f70-bd1f-9bea883fc7a1",
   "metadata": {},
   "outputs": [
    {
     "data": {
      "text/plain": [
       "9"
      ]
     },
     "execution_count": 9,
     "metadata": {},
     "output_type": "execute_result"
    }
   ],
   "source": [
    "sum(np_array == 1)   # can combine the 2nd and 3rd line to get the ans too"
   ]
  },
  {
   "cell_type": "markdown",
   "id": "c043d840-86d0-4ea4-8b2b-53ca97eff27a",
   "metadata": {},
   "source": [
    "Thus, there are nine 1s. \n",
    "\n",
    "I was wondering if the 1 in 61 is counted as a 1? If it is, I am not sure how to go about getting the answer. "
   ]
  },
  {
   "cell_type": "code",
   "execution_count": null,
   "id": "952a5c18-db7b-43ab-8e54-11cf83e64b7c",
   "metadata": {},
   "outputs": [],
   "source": []
  }
 ],
 "metadata": {
  "kernelspec": {
   "display_name": "Python 3 (ipykernel)",
   "language": "python",
   "name": "python3"
  },
  "language_info": {
   "codemirror_mode": {
    "name": "ipython",
    "version": 3
   },
   "file_extension": ".py",
   "mimetype": "text/x-python",
   "name": "python",
   "nbconvert_exporter": "python",
   "pygments_lexer": "ipython3",
   "version": "3.11.7"
  },
  "toc": {
   "base_numbering": 1,
   "nav_menu": {},
   "number_sections": true,
   "sideBar": true,
   "skip_h1_title": false,
   "title_cell": "Table of Contents",
   "title_sidebar": "Contents",
   "toc_cell": false,
   "toc_position": {},
   "toc_section_display": true,
   "toc_window_display": false
  },
  "vscode": {
   "interpreter": {
    "hash": "31f2aee4e71d21fbe5cf8b01ff0e069b9275f58929596ceb00d14d90e3e16cd6"
   }
  }
 },
 "nbformat": 4,
 "nbformat_minor": 5
}
