{
 "cells": [
  {
   "attachments": {},
   "cell_type": "markdown",
   "id": "123456",
   "metadata": {},
   "source": [
    "<div style=\"text-align:left;font-size:2em\"><span style=\"font-weight:bolder;font-size:1.25em\">SP2273 | Learning Portfolio</span><br><br><span style=\"font-weight:bold;color:darkred\">Using Jupyter (Need), Exercises</span></div>"
   ]
  },
  {
   "attachments": {},
   "cell_type": "markdown",
   "id": "a5b02ada",
   "metadata": {},
   "source": [
    "## Quadratic Equations"
   ]
  },
  {
   "attachments": {},
   "cell_type": "markdown",
   "id": "25083983",
   "metadata": {},
   "source": [
    "### Introduction"
   ]
  },
  {
   "cell_type": "markdown",
   "id": "f91ab8d9-42e4-4e2a-a74a-c5ab865e8d81",
   "metadata": {},
   "source": [
    "![](https://upload.wikimedia.org/wikipedia/commons/thumb/f/f8/Polynomialdeg2.svg/600px-Polynomialdeg2.svg.png)\n",
    "(*Image from the [Wikipedia page on Quadratic equations](https://en.wikipedia.org/wiki/Quadratic_equation)*)\n",
    "\n",
    "The general form of a quadratic equation is:\n",
    "$$\n",
    "ax^2 + bx + c = 0\n",
    "$$"
   ]
  },
  {
   "attachments": {},
   "cell_type": "markdown",
   "id": "5e42a02a",
   "metadata": {},
   "source": [
    "### Solutions"
   ]
  },
  {
   "cell_type": "markdown",
   "id": "e41a38d1-50db-4cdb-88e8-2f582e6b040b",
   "metadata": {},
   "source": [
    "Provided $a \\ne 0$, we can use an elementary algebraic method called [completing the square](https://en.wikipedia.org/wiki/Completing_the_square) to show that a quadratic equation has the following solution:\n",
    "$$\n",
    "x = \\dfrac{-b\\pm \\sqrt{b^2-4ac}}{2a}\n",
    "$$ \n"
   ]
  },
  {
   "attachments": {},
   "cell_type": "markdown",
   "id": "c6840db9",
   "metadata": {},
   "source": [
    "### Discriminant"
   ]
  },
  {
   "cell_type": "markdown",
   "id": "76450b3f-8143-4e46-873d-34bf2c9b9480",
   "metadata": {},
   "source": [
    "The quantity $\\Delta = b^2 -4ac$ is called the **discriminant** of the equation and decides the nature of its solutions. The table below shows the various possibilities.\n",
    "\n",
    "|**Discriminant**         |**Roots**\n",
    "|:------------------------|------------------------------------|\n",
    "|$\\Delta = b^2 -4ac = 0$  |A single solution of $-b/(2a)$      |\n",
    "|$\\Delta = b^2 -4ac \\gt 0$|Two distinct solutions              |\n",
    "|$\\Delta = b^2 -4ac \\lt 0$|No real solutions; both are complex.|\n"
   ]
  },
  {
   "cell_type": "markdown",
   "id": "8163737d-1429-4339-991f-a3b0c27f3698",
   "metadata": {},
   "source": [
    "# Exercise 2 \n"
   ]
  },
  {
   "cell_type": "markdown",
   "id": "8bf9149d-5c1a-4cac-92ef-0939e73b0e15",
   "metadata": {},
   "source": [
    "1. It is like a file on Github that contains my learning portfolio (work done on jupyter).\n",
    "1. changes\n",
    "1. a commit allows a specific change to be recorded, and also allows a description about the change made\n",
    "1. a push allows the commited changes on our local device to be shared with Github - cloud (share with others) \n",
    "1. a pull allows changes in the cloud to be saved into our local device \n",
    "1. GitHub desktop contains the repository on our local device while Github is the cloud version. "
   ]
  }
 ],
 "metadata": {
  "kernelspec": {
   "display_name": "Python 3 (ipykernel)",
   "language": "python",
   "name": "python3"
  },
  "language_info": {
   "codemirror_mode": {
    "name": "ipython",
    "version": 3
   },
   "file_extension": ".py",
   "mimetype": "text/x-python",
   "name": "python",
   "nbconvert_exporter": "python",
   "pygments_lexer": "ipython3",
   "version": "3.11.7"
  },
  "toc": {
   "base_numbering": 1,
   "nav_menu": {},
   "number_sections": true,
   "sideBar": true,
   "skip_h1_title": false,
   "title_cell": "Table of Contents",
   "title_sidebar": "Contents",
   "toc_cell": false,
   "toc_position": {},
   "toc_section_display": true,
   "toc_window_display": false
  },
  "vscode": {
   "interpreter": {
    "hash": "31f2aee4e71d21fbe5cf8b01ff0e069b9275f58929596ceb00d14d90e3e16cd6"
   }
  }
 },
 "nbformat": 4,
 "nbformat_minor": 5
}
